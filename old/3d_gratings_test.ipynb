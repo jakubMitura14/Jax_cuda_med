{
 "cells": [
  {
   "cell_type": "code",
   "execution_count": 1,
   "metadata": {},
   "outputs": [
    {
     "name": "stderr",
     "output_type": "stream",
     "text": [
      "/usr/local/lib/python3.8/dist-packages/tqdm/auto.py:22: TqdmWarning: IProgress not found. Please update jupyter and ipywidgets. See https://ipywidgets.readthedocs.io/en/stable/user_install.html\n",
      "  from .autonotebook import tqdm as notebook_tqdm\n"
     ]
    }
   ],
   "source": [
    "from matplotlib.pylab import *\n",
    "from jax import lax, random, numpy as jnp\n",
    "from flax import linen as nn\n",
    "import numpy as np\n",
    "from typing import Any, Callable, Optional, Tuple, Type, List\n",
    "from jax import lax, random, numpy as jnp\n",
    "import einops\n",
    "import torchio\n",
    "import torch\n",
    "import matplotlib.pyplot as plt\n",
    "import tempfile\n",
    "import shutil\n",
    "import os\n",
    "import glob\n",
    "import jax\n",
    "# import monai_swin_nD\n",
    "import tensorflow as tf\n",
    "# import monai_einops\n",
    "import torch \n",
    "import einops\n",
    "import torchio as tio\n",
    "import optax\n",
    "from flax.training import train_state  # Useful dataclass to keep train state\n",
    "from torch.utils.data import DataLoader\n",
    "import h5py\n",
    "import jax\n",
    "from testUtils.spleenTest import get_spleen_data\n",
    "from ml_collections import config_dict\n",
    "from super_voxels.SIN.SIN_jax_3D.model_sin_jax_3D import SpixelNet\n",
    "from swinTransformer.optimasation import get_optimiser\n",
    "import swinTransformer.swin_transformer as swin_transformer\n",
    "from swinTransformer.swin_transformer import SwinTransformer\n",
    "from swinTransformer.losses import focal_loss\n",
    "from swinTransformer.metrics import dice_metr\n",
    "from swinTransformer.optimasation import get_optimiser\n",
    "# import augmentations.simpleTransforms\n",
    "# from augmentations.simpleTransforms import main_augment\n",
    "from testUtils.spleenTest import get_spleen_data\n",
    "from jax.config import config\n",
    "from skimage.segmentation import mark_boundaries\n",
    "import cv2\n",
    "import functools\n",
    "# from torch.utils.tensorboard import SummaryWriter\n",
    "# import torchvision.transforms.functional as F\n",
    "# import torchvision\n",
    "import flax.jax_utils as jax_utils\n",
    "import tensorflow as tf\n",
    "from jax_smi import initialise_tracking\n",
    "import ml_collections\n",
    "import SimpleITK as sitk\n",
    "import more_itertools\n",
    "import toolz\n",
    "import time\n",
    "import SimpleITK as sitk\n",
    "from super_voxels.SIN.SIN_jax_3D.render3D import *\n",
    "from super_voxels.SIN.SIN_jax_3D.model_sin_jax_utils_3D import *\n",
    "\n",
    "\n"
   ]
  },
  {
   "cell_type": "code",
   "execution_count": 2,
   "metadata": {},
   "outputs": [],
   "source": [
    "\n",
    "\n",
    "# # fourier_synthesis.py\n",
    "\n",
    "\n",
    "# def calculate_2dft(input):\n",
    "#     ft = np.fft.ifftshift(input)\n",
    "#     ft = np.fft.fft2(ft)\n",
    "#     return np.fft.fftshift(ft)\n",
    "\n",
    "# def calculate_2dift(input):\n",
    "#     ift = np.fft.ifftshift(input)\n",
    "#     ift = np.fft.ifft2(ift)\n",
    "#     ift = np.fft.fftshift(ift)\n",
    "#     return ift.real\n",
    "\n",
    "# def calculate_distance_from_centre(coords, centre):\n",
    "#     # Distance from centre is √(x^2 + y^2)\n",
    "#     return np.sqrt(\n",
    "#         (coords[0] - centre) ** 2 + (coords[1] - centre) ** 2\n",
    "#     )\n",
    "\n",
    "# def find_symmetric_coordinates(coords, centre):\n",
    "#     return (centre + (centre - coords[0]),\n",
    "#             centre + (centre - coords[1]))\n",
    "\n",
    "# def display_plots(individual_grating, reconstruction, idx):\n",
    "#     plt.subplot(121)\n",
    "#     plt.imshow(individual_grating)\n",
    "#     plt.axis(\"off\")\n",
    "#     plt.subplot(122)\n",
    "#     plt.imshow(reconstruction)\n",
    "#     plt.axis(\"off\")\n",
    "#     plt.suptitle(f\"Terms: {idx}\")\n",
    "#     plt.pause(0.01)\n",
    "\n",
    "# # Read and process image\n",
    "# image =get_spleen_data()[0][0][0,0,210:242,170:202,50]*256\n",
    "\n",
    "\n",
    "# # Array dimensions (array is square) and centre pixel\n",
    "# array_size = len(image)\n",
    "# centre = int((array_size - 1) / 2)\n",
    "\n",
    "# # Get all coordinate pairs in the left half of the array,\n",
    "# # including the column at the centre of the array (which\n",
    "# # includes the centre pixel)\n",
    "# coords_left_half = (\n",
    "#     (x, y) for x in range(array_size) for y in range(centre+1)\n",
    "# )\n",
    "\n",
    "# # Sort points based on distance from centre\n",
    "# coords_left_half = sorted(\n",
    "#     coords_left_half,\n",
    "#     key=lambda x: calculate_distance_from_centre(x, centre)\n",
    "# )\n",
    "# # coords_left_half= coords_left_half[1:100]\n",
    "# plt.set_cmap(\"gray\")\n",
    "\n",
    "# ft = calculate_2dft(image)\n",
    "\n",
    "# # Show grayscale image and its Fourier transform\n",
    "# plt.subplot(121)\n",
    "# plt.imshow(image)\n",
    "# plt.axis(\"off\")\n",
    "# plt.subplot(122)\n",
    "# plt.imshow(np.log(abs(ft)))\n",
    "# plt.axis(\"off\")\n",
    "# plt.pause(2)\n",
    "\n",
    "# # Reconstruct image\n",
    "# fig = plt.figure()\n",
    "# # Step 1\n",
    "# # Set up empty arrays for final image and\n",
    "# # individual gratings\n",
    "# rec_image = np.zeros(image.shape)\n",
    "# individual_grating = np.zeros(\n",
    "#     image.shape, dtype=\"complex\"\n",
    "# )\n",
    "# idx = 0\n",
    "\n",
    "# # All steps are displayed until display_all_until value\n",
    "# display_all_until = 0\n",
    "# # After this, skip which steps to display using the\n",
    "# # display_step value\n",
    "# display_step = 10\n",
    "# # Work out index of next step to display\n",
    "# next_display = display_all_until + display_step\n",
    "\n",
    "# # Step 2\n",
    "# for coords in coords_left_half:\n",
    "#     # Central column: only include if points in top half of\n",
    "#     # the central column\n",
    "#     if not (coords[1] == centre and coords[0] > centre):\n",
    "#         idx += 1\n",
    "#         symm_coords = find_symmetric_coordinates(\n",
    "#             coords, centre\n",
    "#         )\n",
    "#         # Step 3\n",
    "#         # Copy values from Fourier transform into\n",
    "#         # individual_grating for the pair of points in\n",
    "#         # current iteration\n",
    "#         individual_grating[coords] = ft[coords]\n",
    "#         individual_grating[symm_coords] = ft[symm_coords]\n",
    "\n",
    "#         # Step 4\n",
    "#         # Calculate inverse Fourier transform to give the\n",
    "#         # reconstructed grating. Add this reconstructed\n",
    "#         # grating to the reconstructed image\n",
    "#         rec_grating = calculate_2dift(individual_grating)\n",
    "#         rec_image += rec_grating\n",
    "\n",
    "#         # Clear individual_grating array, ready for\n",
    "#         # next iteration\n",
    "#         individual_grating[coords] = 0\n",
    "#         individual_grating[symm_coords] = 0\n",
    "\n",
    "#         # Don't display every step\n",
    "#         if idx < display_all_until or idx == next_display:\n",
    "#             if idx > display_all_until:\n",
    "#                 next_display += display_step\n",
    "#                 # Accelerate animation the further the\n",
    "#                 # iteration runs by increasing\n",
    "#                 # display_step\n",
    "#                 display_step += 10\n",
    "#             display_plots(rec_grating, rec_image, idx)\n",
    "\n",
    "# plt.show()"
   ]
  },
  {
   "cell_type": "code",
   "execution_count": null,
   "metadata": {},
   "outputs": [],
   "source": []
  },
  {
   "cell_type": "code",
   "execution_count": 3,
   "metadata": {},
   "outputs": [
    {
     "name": "stdout",
     "output_type": "stream",
     "text": [
      "spleen not in dataset\n"
     ]
    }
   ],
   "source": [
    "\n",
    "cfg = config_dict.ConfigDict()\n",
    "cfg.batch_size=1\n",
    "\n",
    "\n",
    "def add_batches(cached_subj,cfg):\n",
    "  cached_subj=list(more_itertools.chunked(cached_subj, cfg.batch_size))\n",
    "  cached_subj=list(map(toolz.sandbox.core.unzip,cached_subj ))\n",
    "  cached_subj=list(map(lambda inn: list(map(list,inn)),cached_subj ))\n",
    "  cached_subj=list(map(lambda inn: list(map(np.concatenate,inn)),cached_subj ))\n",
    "  return cached_subj\n",
    "\n",
    "\n",
    "cached_subj =get_spleen_data()[0:43]\n",
    "# cached_subj= add_batches(cached_subj,cfg)\n",
    "\n",
    "\n",
    "\n",
    "\n",
    "\n"
   ]
  },
  {
   "cell_type": "code",
   "execution_count": 4,
   "metadata": {},
   "outputs": [
    {
     "data": {
      "text/plain": [
       "array([0], dtype=uint32)"
      ]
     },
     "execution_count": 4,
     "metadata": {},
     "output_type": "execute_result"
    }
   ],
   "source": [
    "example_slic=cached_subj[1][2][0,:,:,:]\n",
    "example_image=cached_subj[1][0]\n",
    "ids = np.unique(np.ravel(np.array(example_slic)) )\n",
    "ids\n",
    "# ids = np.unique(np.ravel(np.array(example_slic)) )"
   ]
  },
  {
   "cell_type": "code",
   "execution_count": 5,
   "metadata": {},
   "outputs": [
    {
     "data": {
      "text/plain": [
       "0.6160167"
      ]
     },
     "execution_count": 5,
     "metadata": {},
     "output_type": "execute_result"
    }
   ],
   "source": [
    "np.max(np.ravel(example_image))"
   ]
  },
  {
   "cell_type": "code",
   "execution_count": 6,
   "metadata": {},
   "outputs": [],
   "source": [
    "# spacing = (1.5,1.5,1.5)\n",
    "# slic = sitk.SLICImageFilter()\n",
    "# # slic.SetMaximumNumberOfIterations(300)\n",
    "# slic.SetEnforceConnectivity(True)\n",
    "# # image_sitk_nda=einops.rearrange(image,'bb cc a b c -> (bb cc c) b a')\n",
    "# image_sitk = sitk.GetImageFromArray(example_image)\n",
    "# image_sitk.SetSpacing(spacing)\n",
    "\n",
    "# rescalFilt=sitk.RescaleIntensityImageFilter()\n",
    "# rescalFilt.SetOutputMaximum(1000)\n",
    "# rescalFilt.SetOutputMinimum(0)\n",
    "# image_sitk=rescalFilt.Execute(image_sitk)\n",
    "\n",
    "# image_sitk=sitk.Cast(image_sitk, sitk.sitkInt64)\n",
    "# slic_seg = slic.Execute(image_sitk)\n",
    "\n",
    "# example_slic = sitk.GetArrayFromImage(slic_seg)\n",
    "# ids = np.unique(np.ravel(np.array(example_slic)) )"
   ]
  },
  {
   "cell_type": "code",
   "execution_count": 7,
   "metadata": {},
   "outputs": [
    {
     "data": {
      "text/plain": [
       "array([0], dtype=uint32)"
      ]
     },
     "execution_count": 7,
     "metadata": {},
     "output_type": "execute_result"
    }
   ],
   "source": [
    "ids"
   ]
  },
  {
   "cell_type": "code",
   "execution_count": 8,
   "metadata": {},
   "outputs": [
    {
     "ename": "IndexError",
     "evalue": "index 10 is out of bounds for axis 0 with size 1",
     "output_type": "error",
     "traceback": [
      "\u001b[0;31m---------------------------------------------------------------------------\u001b[0m",
      "\u001b[0;31mIndexError\u001b[0m                                Traceback (most recent call last)",
      "Cell \u001b[0;32mIn[8], line 1\u001b[0m\n\u001b[0;32m----> 1\u001b[0m curr_id\u001b[39m=\u001b[39mids[\u001b[39m10\u001b[39;49m]\n\u001b[1;32m      2\u001b[0m curr_example_slic\u001b[39m=\u001b[39m(example_slic\u001b[39m==\u001b[39mcurr_id)\n\u001b[1;32m      3\u001b[0m points\u001b[39m=\u001b[39mnp\u001b[39m.\u001b[39margwhere(curr_example_slic)\n",
      "\u001b[0;31mIndexError\u001b[0m: index 10 is out of bounds for axis 0 with size 1"
     ]
    }
   ],
   "source": [
    "\n",
    "curr_id=ids[10]\n",
    "curr_example_slic=(example_slic==curr_id)\n",
    "points=np.argwhere(curr_example_slic)\n",
    "values=list(map(lambda point :example_image[point[0],point[1],point[2]], points))\n",
    "np.var(example_image[curr_example_slic])\n",
    "\n",
    "\n",
    "def getMinMax(a):\n",
    "    a = list(a)\n",
    "    return np.min(a), np.max(a)\n",
    "\n",
    "x,y,z=toolz.sandbox.core.unzip(points)\n",
    "min_x, max_x= getMinMax(x)\n",
    "min_y, max_y= getMinMax(y)\n",
    "min_z, max_z= getMinMax(z)\n",
    "section= example_slic[min_x:max_x,min_y:max_y, min_z:max_z]\n",
    "mediann=np.median(np.ravel(section))\n",
    "print(f\"curr_id {curr_id} mediann {mediann}\")\n",
    "print(f\"min_x {min_x} max_x {max_x} min_y {min_y} max_y {max_y} min_z {min_z} max_z {max_z}\")\n"
   ]
  },
  {
   "cell_type": "code",
   "execution_count": null,
   "metadata": {},
   "outputs": [],
   "source": []
  }
 ],
 "metadata": {
  "kernelspec": {
   "display_name": "Python 3",
   "language": "python",
   "name": "python3"
  },
  "language_info": {
   "codemirror_mode": {
    "name": "ipython",
    "version": 3
   },
   "file_extension": ".py",
   "mimetype": "text/x-python",
   "name": "python",
   "nbconvert_exporter": "python",
   "pygments_lexer": "ipython3",
   "version": "3.8.10"
  },
  "orig_nbformat": 4
 },
 "nbformat": 4,
 "nbformat_minor": 2
}
