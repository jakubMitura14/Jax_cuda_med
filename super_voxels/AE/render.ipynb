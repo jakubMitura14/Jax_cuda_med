{
 "cells": [
  {
   "cell_type": "code",
   "execution_count": 1,
   "metadata": {},
   "outputs": [],
   "source": [
    "import jax\n",
    "import jax.numpy as jnp\n",
    "import io\n",
    "import base64\n",
    "import time\n",
    "from functools import partial\n",
    "from typing import NamedTuple\n",
    "import subprocess\n",
    "import optax\n",
    "import PIL\n",
    "import numpy as np\n",
    "import matplotlib.pylab as pl\n",
    "import einops \n",
    "import SimpleITK as sitk\n",
    "import itertools\n",
    "from flax import linen as nn\n",
    "import functools\n",
    "from typing import Any, Callable, Sequence, Optional\n",
    "import jax\n",
    "from jax import lax, random, numpy as jnp\n",
    "from flax.core import freeze, unfreeze\n",
    "from flax import linen as nn\n",
    "import chex\n",
    "import ml_collections\n",
    "\n",
    "def norm(v, axis=-1, keepdims=False, eps=0.0):\n",
    "  return jnp.sqrt((v*v).sum(axis, keepdims=keepdims).clip(eps))\n",
    "\n",
    "def normalize(v, axis=-1, eps=1e-20):\n",
    "  return v/norm(v, axis, keepdims=True, eps=eps)\n",
    "def standardize_to_sum_1(v, axis=-1, eps=1e-20):\n",
    "  a=v-jnp.min(v)\n",
    "  # print(f\"a {a}\")\n",
    "  return a/jnp.sum(jnp.ravel(a))\n",
    "\n",
    "\n",
    "class Balls(NamedTuple):\n",
    "  pos: jnp.ndarray\n",
    "  color: jnp.ndarray\n",
    "\n",
    "\n"
   ]
  },
  {
   "cell_type": "code",
   "execution_count": 52,
   "metadata": {},
   "outputs": [],
   "source": [
    "def show_slice(sdf, z=0.0, w=400, r=3.5):\n",
    "  y, x = jnp.mgrid[-r:r:w*1j, -r:r:w*1j].reshape(2, -1)\n",
    "  p = jnp.c_[x, y, x*0.0+z]\n",
    "  d = jax.vmap(sdf)(p).reshape(w, w)\n",
    "  pl.figure(figsize=(5, 5))\n",
    "  kw = dict(extent=(-r, r, -r, r), vmin=-r, vmax=r)\n",
    "  pl.contourf(d, 16, cmap='bwr', **kw );\n",
    "  pl.contour(d, levels=[0.0], colors='black', **kw);\n",
    "  pl.axis('equal')\n",
    "  pl.xlabel('x')\n",
    "  pl.ylabel('y')"
   ]
  },
  {
   "cell_type": "code",
   "execution_count": 53,
   "metadata": {},
   "outputs": [],
   "source": [
    "# def create_balls(key, n=3, R=3.0):\n",
    "#   pos, color = jax.random.uniform(key, [2, n, 3])\n",
    "#   pos = (pos-0.5)*R\n",
    "#   return Balls(pos, color)\n",
    "# normalizedf, balls), z=0.0)"
   ]
  },
  {
   "cell_type": "markdown",
   "metadata": {},
   "source": [
    "idea in general is to have a function that takes a point coordinates and output the value\n",
    "so we have stored for each supervoxel a center, a voxel characteristic (for now just simple gaussian)\n",
    "and set of vectors in diffrent directions basically in polar coordinates\n",
    "next given a point coordinates in the image we can look at a location value for this point of each supervoxel\n",
    "so we will take the voctor from the center of the analyzed supervoxel and look for the dot products of this vector with the stored vectors in the supervoxel publish_display_data\n",
    "we than take either sum or max dot product as the score we than take into account wheather the query vecotr is shorter or longer than stored one\n",
    "so if it is shorter we give high value if it is not small  \n",
    "we will have a score for each supervoxel that will mark basically are the coordinates in the shape or not\n",
    "next we will softmax or sth like that to exaggerate the influence of best fit \n",
    "lastly we will multiply by the output values of the haussians - hence all the supervoxels becouse of the low scores should not contribute significantly \n",
    "and the single one should\n",
    "\n",
    "later when wavelet or some other we should also have the way to get the value in a particular spot without instantiating whole image \n",
    "\n",
    "note \n",
    "in order to avoid collapse of the shape to the point there should be additionall loss function that will maximize the distance between the points within supervoxel"
   ]
  },
  {
   "cell_type": "code",
   "execution_count": 54,
   "metadata": {},
   "outputs": [],
   "source": [
    "def get_initial_points_around(r):\n",
    "    \"\"\"\n",
    "    given center point will give set of points that will create a verticies of shape around this point\n",
    "    the first try of this function is a cube\n",
    "    center_point- jax array with 3 float entries\n",
    "    r - a float that is controlling the initial shape size if it would be a sphere it would be a radius\n",
    "    \"\"\"\n",
    "    res= list(set(itertools.combinations([-r,0.0,r,-r,0.0,r,-r,0.0,r],3)))\n",
    "    return jnp.array( list(filter(lambda points: not (points[0]==0.0 and points[1]==0.0 and points[0]==0.0)  ,res)))\n",
    "     \n",
    "\n",
    "\n",
    "def get_corrected_dist(query_point_normalized,around,eps,pow=3):\n",
    "    \"\"\"\n",
    "    our goal is to get the information how distant in a query point direction it can be to be still within shape\n",
    "    so first we need to asses the angle in respect to all of its verticies to know in which direction to look\n",
    "    next we asses how far in this direction the shape goes from the center (which in this case is the center of coordinate system)\n",
    "    query_point_normalized: the location of the query points given the shape center is the center of coordianate system\n",
    "    around - set of points that are the verticies of the shape in the same coordinate system as above\n",
    "    eps - added for numerical stability\n",
    "    pow - need to be odd number  the bigger the more exact the calculation the smaller the more stable numerically and simpler to differentiate\n",
    "    \"\"\"\n",
    "    #vmap cosine similarity\n",
    "    cosine_similarity_multi=jax.vmap(partial(optax.cosine_similarity, epsilon=eps),(0,None))\n",
    "    angle_similarity= jax.nn.softmax(jnp.power(((cosine_similarity_multi(around,query_point_normalized))+1),pow))\n",
    "    dists = jnp.sqrt(jnp.sum(jnp.power(around,2),axis=1))\n",
    "    corrected_dist= jnp.sum(dists*angle_similarity)#try also max\n",
    "    return corrected_dist\n",
    "\n",
    "# dist_query= jnp.sqrt(jnp.sum(query_point_normalized**2))\n",
    "# corrected_dist=get_corrected_dist(query_point_normalized,around,eps)\n",
    "# dist_query\n",
    "# dist_query\n",
    "# aa=sq_dists*angle_similarity\n",
    "# # print(around)\n",
    "\n",
    "# jnp.round(aa,decimals=1)\n",
    "# # angle_similarity"
   ]
  },
  {
   "cell_type": "code",
   "execution_count": 55,
   "metadata": {},
   "outputs": [],
   "source": [
    "def soft_less(max_cube,curr,to_pow=90):\n",
    "    \"\"\"\n",
    "    soft version of less operator if max cube is bigger than curr we will get number close to 1\n",
    "    if curr is bigger than max_cube we will gt close to 0\n",
    "    to_pow - the bigger the more exact but less numerically stable solution we get\n",
    "    \"\"\"\n",
    "    diff_a =  jnp.power(to_pow,(max_cube-curr))# if it is positive we are inside if negative outside\n",
    "    diff_b =  jnp.power(to_pow,(curr-max_cube))# if it is positive we are outside if negative inside\n",
    "    return (diff_a/(diff_a+diff_b))"
   ]
  },
  {
   "cell_type": "code",
   "execution_count": 56,
   "metadata": {},
   "outputs": [
    {
     "name": "stdout",
     "output_type": "stream",
     "text": [
      "bigg 0.9999498128890991 small 0.0\n"
     ]
    }
   ],
   "source": [
    "#should get big\n",
    "max_cube=1.2\n",
    "curr=0.1\n",
    "bigg=soft_less(max_cube,curr)\n",
    "#should get small\n",
    "max_cube=1.2\n",
    "curr=100\n",
    "small=soft_less(max_cube,curr,to_pow=90)\n",
    "\n",
    "print(f\"bigg {bigg} small {small}\")\n"
   ]
  },
  {
   "cell_type": "code",
   "execution_count": 57,
   "metadata": {},
   "outputs": [],
   "source": [
    "\n",
    "def get_value_for_point(param_s_vox, value_param,query_point,cfg ):\n",
    "    \"\"\"\n",
    "    given a point coordinates will return the value on the basis of current supervoxel data that is stored in param_s_vox\n",
    "    param_s_vox - contain supervoxel parameters\n",
    "        0-3) supervoxel center\n",
    "        4-end verticies points (3 float each)\n",
    "    value_param - parameters required to compute value for points inside the shape\n",
    "    query_point - point that we are analizing wheather is in the given supervoxel or not\n",
    "    \"\"\"\n",
    "    super_voxel_center=param_s_vox[0,:]\n",
    "    #coordinates of verticies\n",
    "    around= param_s_vox[1:,:]\n",
    "    # around= einops.rearrange(around,'(v c)->v c',c=3)\n",
    "    #normalizing so we are acting as if the center of supervoxel is the center of coordinate system\n",
    "    query_point_normalized=jnp.subtract(query_point,super_voxel_center)\n",
    "    #getting the distance from the center of the shape to ith border in the direction of query point\n",
    "    corrected_dist=get_corrected_dist(query_point_normalized,around,cfg.eps,pow=cfg.pow)\n",
    "    # distance from center of the shepe to query point\n",
    "    # print(f\"query_point_normalizedaaa {query_point_normalized} \")\n",
    "    dist_query= jnp.sqrt(jnp.sum(jnp.power(query_point_normalized,2)))\n",
    "    #closer to 1 if query point is in shape closer to 0 if outside\n",
    "    soft_is_in_shape=soft_less(corrected_dist,dist_query,to_pow=cfg.to_pow)\n",
    "    return value_param*soft_is_in_shape\n",
    "\n"
   ]
  },
  {
   "cell_type": "code",
   "execution_count": 58,
   "metadata": {},
   "outputs": [],
   "source": [
    "# shapee= (20,20,20)\n",
    "# r=4.5\n",
    "def get_initial_supervoxel_centers(shapee,r):\n",
    "    \"\"\"\n",
    "    return the initial centers and relative verticies of supervoxels \n",
    "    verticies has location relative to its center\n",
    "    shape is (v p c) - v - super voxel p - point c - coordinate of the point\n",
    "    \"\"\"\n",
    "    xx,yy,zz=list(map(lambda index :jnp.arange(r,shapee[index]-r,r),[0,1,2]))\n",
    "    centers=list(map(lambda x:list(map( lambda y: list(map(lambda z: jnp.array([x,y,z])    \n",
    "                        ,zz))\n",
    "                    ,yy))            \n",
    "                ,xx ))\n",
    "    centers= list(itertools.chain(*centers))\n",
    "    centers= list(itertools.chain(*centers))\n",
    "    centers=jnp.array(centers)\n",
    "    centers=einops.rearrange(centers,'v c-> v 1 c')\n",
    "    return centers\n",
    "    # centers=einops.rearrange(centers,'v c-> v 1 c')\n",
    "    # verticies_multi=einops.repeat(verticies,'p c->v p c',v=len(centers) )\n",
    "    # shape_param=jnp.concatenate([centers,verticies_multi], axis=1)\n",
    "    # return shape_param"
   ]
  },
  {
   "cell_type": "code",
   "execution_count": 59,
   "metadata": {},
   "outputs": [],
   "source": [
    "\n",
    "class mono_super_voxel(nn.Module):\n",
    "    cfg: ml_collections.config_dict.config_dict.ConfigDict\n",
    "    super_voxel_center: chex.Array\n",
    "    value_param_single_s_vox_given: chex.Array\n",
    "\n",
    "    def get_shape_param_single_s_vox(self,rng,dummy):\n",
    "        verticies=get_initial_points_around(self.cfg.r)\n",
    "        return jnp.concatenate([self.super_voxel_center,verticies])\n",
    "    def get_value_param_single_s_vox(self,rng,dummy):\n",
    "        return self.value_param_single_s_vox_given  \n",
    "  \n",
    "    @nn.compact\n",
    "    def __call__(self, query_point):\n",
    "        shape_param_single_s_vox = self.param('shape_param_single_s_vox',\n",
    "                            self.get_shape_param_single_s_vox,())\n",
    "        value_param_single_s_vox = self.param('value_param_single_s_vox',\n",
    "                            self.get_value_param_single_s_vox,())\n",
    "        return get_value_for_point(shape_param_single_s_vox, value_param_single_s_vox,query_point,self.cfg)        \n"
   ]
  },
  {
   "cell_type": "code",
   "execution_count": 62,
   "metadata": {},
   "outputs": [
    {
     "name": "stdout",
     "output_type": "stream",
     "text": [
      "around [[ 0.   4.5  4.5]\n",
      " [-4.5  0.   4.5]\n",
      " [-4.5  4.5  0. ]\n",
      " [ 4.5  4.5  4.5]\n",
      " [ 4.5  0.   4.5]\n",
      " [ 0.   4.5  0. ]\n",
      " [-4.5 -4.5  4.5]\n",
      " [ 0.  -4.5  4.5]\n",
      " [ 4.5 -4.5  4.5]\n",
      " [-4.5  0.   0. ]\n",
      " [-4.5  4.5 -4.5]\n",
      " [ 4.5  4.5  0. ]\n",
      " [ 4.5  0.   0. ]\n",
      " [-4.5 -4.5  0. ]\n",
      " [ 0.   4.5 -4.5]\n",
      " [ 0.  -4.5  0. ]\n",
      " [ 4.5 -4.5  0. ]\n",
      " [-4.5  0.  -4.5]\n",
      " [ 4.5  4.5 -4.5]\n",
      " [-4.5  4.5  4.5]\n",
      " [ 4.5  0.  -4.5]\n",
      " [-4.5 -4.5 -4.5]\n",
      " [ 0.  -4.5 -4.5]\n",
      " [ 4.5 -4.5 -4.5]]\n"
     ]
    },
    {
     "data": {
      "text/plain": [
       "FrozenDict({\n",
       "    params: {\n",
       "        shape_param_single_s_vox: Array([[ 4.5,  4.5,  4.5],\n",
       "               [ 0. ,  4.5,  4.5],\n",
       "               [-4.5,  0. ,  4.5],\n",
       "               [-4.5,  4.5,  0. ],\n",
       "               [ 4.5,  4.5,  4.5],\n",
       "               [ 4.5,  0. ,  4.5],\n",
       "               [ 0. ,  4.5,  0. ],\n",
       "               [-4.5, -4.5,  4.5],\n",
       "               [ 0. , -4.5,  4.5],\n",
       "               [ 4.5, -4.5,  4.5],\n",
       "               [-4.5,  0. ,  0. ],\n",
       "               [-4.5,  4.5, -4.5],\n",
       "               [ 4.5,  4.5,  0. ],\n",
       "               [ 4.5,  0. ,  0. ],\n",
       "               [-4.5, -4.5,  0. ],\n",
       "               [ 0. ,  4.5, -4.5],\n",
       "               [ 0. , -4.5,  0. ],\n",
       "               [ 4.5, -4.5,  0. ],\n",
       "               [-4.5,  0. , -4.5],\n",
       "               [ 4.5,  4.5, -4.5],\n",
       "               [-4.5,  4.5,  4.5],\n",
       "               [ 4.5,  0. , -4.5],\n",
       "               [-4.5, -4.5, -4.5],\n",
       "               [ 0. , -4.5, -4.5],\n",
       "               [ 4.5, -4.5, -4.5]], dtype=float32),\n",
       "        value_param_single_s_vox: Array([0], dtype=int32),\n",
       "    },\n",
       "})"
      ]
     },
     "execution_count": 62,
     "metadata": {},
     "output_type": "execute_result"
    }
   ],
   "source": [
    "cfg = ml_collections.config_dict.ConfigDict()\n",
    "cfg.r=4.5 # size of super voxel\n",
    "cfg.eps=1e-20 #for numerical stability\n",
    "\n",
    "cfg.to_pow=90# rendering hyperparameter controling exactness and differentiability\n",
    "cfg.pow=3# rendering hyperparameter controling exactness and differentiability\n",
    "cfg.input_shape=(100,100,100)\n",
    "\n",
    "query_point = jnp.array([1.0,1.0,1.0])\n",
    "\n",
    "supervoxel_centers=get_initial_supervoxel_centers(cfg.input_shape,cfg.r)\n",
    "value_param=jnp.arange(len(supervoxel_centers))\n",
    "\n",
    "layer=mono_super_voxel(cfg,supervoxel_centers[0,:,:],jnp.array([value_param[0]]) )\n",
    "layer.init(jax.random.PRNGKey(0), query_point)"
   ]
  },
  {
   "cell_type": "code",
   "execution_count": 61,
   "metadata": {},
   "outputs": [
    {
     "ename": "NameError",
     "evalue": "name 'Simple_window_attention' is not defined",
     "output_type": "error",
     "traceback": [
      "\u001b[0;31m---------------------------------------------------------------------------\u001b[0m",
      "\u001b[0;31mNameError\u001b[0m                                 Traceback (most recent call last)",
      "Cell \u001b[0;32mIn[61], line 9\u001b[0m\n\u001b[1;32m      3\u001b[0m \u001b[39mdef\u001b[39;00m \u001b[39mgvfp_sv\u001b[39m(param_s_vox, value_param,index,to_pow,eps ):\n\u001b[1;32m      4\u001b[0m     \u001b[39mreturn\u001b[39;00m jnp\u001b[39m.\u001b[39msum(gvfp_sv_vmapped(param_s_vox, value_param,index,to_pow,eps ))\n\u001b[1;32m      8\u001b[0m nn\u001b[39m.\u001b[39mscan(\n\u001b[0;32m----> 9\u001b[0m             Simple_window_attention,\n\u001b[1;32m     10\u001b[0m             in_axes\u001b[39m=\u001b[39m\u001b[39m0\u001b[39m, out_axes\u001b[39m=\u001b[39m\u001b[39m0\u001b[39m,\n\u001b[1;32m     11\u001b[0m             variable_broadcast\u001b[39m=\u001b[39m{\u001b[39m'\u001b[39m\u001b[39mparams\u001b[39m\u001b[39m'\u001b[39m: \u001b[39mNone\u001b[39;00m},\n\u001b[1;32m     12\u001b[0m             split_rngs\u001b[39m=\u001b[39m{\u001b[39m'\u001b[39m\u001b[39mparams\u001b[39m\u001b[39m'\u001b[39m: \u001b[39mFalse\u001b[39;00m}\n\u001b[1;32m     13\u001b[0m             ,length\u001b[39m=\u001b[39m (length\u001b[39m/\u001b[39m(\u001b[39m8\u001b[39m\u001b[39m*\u001b[39m\u001b[39m*\u001b[39mi))\u001b[39m/\u001b[39m\u001b[39mself\u001b[39m\u001b[39m.\u001b[39min_chans )(\u001b[39mself\u001b[39m\u001b[39m.\u001b[39mnum_heads\n\u001b[1;32m     14\u001b[0m                             ,\u001b[39mself\u001b[39m\u001b[39m.\u001b[39mwindow_size\n\u001b[1;32m     15\u001b[0m                             ,\u001b[39mself\u001b[39m\u001b[39m.\u001b[39membed_dim\n\u001b[1;32m     16\u001b[0m                             ,\u001b[39mself\u001b[39m\u001b[39m.\u001b[39mimg_size\n\u001b[1;32m     17\u001b[0m                             ,\u001b[39mself\u001b[39m\u001b[39m.\u001b[39mshift_sizes\n\u001b[1;32m     18\u001b[0m                             ,\u001b[39mself\u001b[39m\u001b[39m.\u001b[39mdownsamples\n\u001b[1;32m     19\u001b[0m                             ,\u001b[39mself\u001b[39m\u001b[39m.\u001b[39mpatches_resolution\n\u001b[1;32m     20\u001b[0m                             ,i) \n",
      "\u001b[0;31mNameError\u001b[0m: name 'Simple_window_attention' is not defined"
     ]
    }
   ],
   "source": [
    "\n",
    "gvfp_sv_vmapped=jax.vmap(get_value_for_point,(0,None,None,None,None))\n",
    "\n",
    "def gvfp_sv(param_s_vox, value_param,index,to_pow,eps ):\n",
    "    return jnp.sum(gvfp_sv_vmapped(param_s_vox, value_param,index,to_pow,eps ))\n",
    "\n",
    "\n",
    "\n",
    "nn.scan(\n",
    "            Simple_window_attention,\n",
    "            in_axes=0, out_axes=0,\n",
    "            variable_broadcast={'params': None},\n",
    "            split_rngs={'params': False}\n",
    "            ,length= (length/(8**i))/self.in_chans )(self.num_heads\n",
    "                            ,self.window_size\n",
    "                            ,self.embed_dim\n",
    "                            ,self.img_size\n",
    "                            ,self.shift_sizes\n",
    "                            ,self.downsamples\n",
    "                            ,self.patches_resolution\n",
    "                            ,i) "
   ]
  },
  {
   "cell_type": "code",
   "execution_count": null,
   "metadata": {},
   "outputs": [],
   "source": [
    "\n",
    "gvfp_sv_vmapped=jax.vmap(get_value_for_point,(0,None,None,None,None))\n",
    "\n",
    "def gvfp_sv(param_s_vox, value_param,index,to_pow,eps ):\n",
    "    return jnp.sum(gvfp_sv_vmapped(param_s_vox, value_param,index,to_pow,eps ))\n",
    "\n",
    "\n",
    "\n",
    "nn.scan(\n",
    "            Simple_window_attention,\n",
    "            in_axes=0, out_axes=0,\n",
    "            variable_broadcast={'params': None},\n",
    "            split_rngs={'params': False}\n",
    "            ,length= (length/(8**i))/self.in_chans )(self.num_heads\n",
    "                            ,self.window_size\n",
    "                            ,self.embed_dim\n",
    "                            ,self.img_size\n",
    "                            ,self.shift_sizes\n",
    "                            ,self.downsamples\n",
    "                            ,self.patches_resolution\n",
    "                            ,i) "
   ]
  },
  {
   "cell_type": "code",
   "execution_count": null,
   "metadata": {},
   "outputs": [],
   "source": [
    "eps=1e-20\n",
    "pow=3\n",
    "to_pow=90\n",
    "\n",
    "# super_voxel_center= jnp.array([10.0,10.0,10.0 ])\n",
    "r=5.0\n",
    "around=get_initial_points_around(r)\n",
    "shapee=(100,100,100)\n",
    "# param_s_vox=jnp.concatenate([jnp.expand_dims(super_voxel_center, axis=0),around])\n",
    "param_s_vox=get_initial_supervoxel_centers(shapee,r)\n",
    "\n",
    "\n",
    "\n",
    "# query_point=jnp.array([6.5,6.5,6.5])\n",
    "# query_point=jnp.array([180.0,180.0,180.0])\n",
    "value_param=jnp.array([7.0])\n",
    "\n",
    "image = jnp.zeros(shapee)\n",
    "indicies= einops.rearrange(jnp.indices(image.shape),'c x y z->(x y z) c')\n",
    "\n",
    "gvfp_sv_vmapped=jax.vmap(get_value_for_point,(0,None,None,None,None))\n",
    "\n",
    "\n",
    "def gvfp_sv(param_s_vox, value_param,index,to_pow,eps ):\n",
    "    return jnp.sum(gvfp_sv_vmapped(param_s_vox, value_param,index,to_pow,eps ))\n",
    "\n",
    "# gvfp_sv(param_s_vox, value_param,indicies[0,:],to_pow,eps )\n",
    "\n",
    "\n",
    "gvfp_sv_points= jax.jit(jax.vmap(gvfp_sv,(None,None,0,None,None)))\n",
    "# get_value_for_point(param_s_vox, value_param,query_point,to_pow,eps )\n",
    "\n",
    "\n",
    "\n",
    "\n",
    "# super_voxel_center"
   ]
  },
  {
   "cell_type": "code",
   "execution_count": null,
   "metadata": {},
   "outputs": [],
   "source": [
    "image_res=gvfp_sv_points(param_s_vox, value_param,indicies,to_pow,eps )\n",
    "image_res= jnp.reshape(image_res,image.shape )\n",
    "image_res = sitk.GetImageFromArray(image_res)\n",
    "sitk.WriteImage(image_res,\"/workspaces/Jax_cuda_med/data/explore/cube.nii.gz\")"
   ]
  },
  {
   "cell_type": "code",
   "execution_count": null,
   "metadata": {},
   "outputs": [],
   "source": [
    "aa=jnp.indices((100,100,100))\n",
    "aa= einops.rearrange(aa,'c x y z->(x y z) c')\n",
    "aa[110]"
   ]
  },
  {
   "cell_type": "code",
   "execution_count": null,
   "metadata": {},
   "outputs": [],
   "source": [
    "# time to save it in a form readable by sitk"
   ]
  },
  {
   "cell_type": "code",
   "execution_count": 2,
   "metadata": {},
   "outputs": [],
   "source": [
    "\n",
    "\n",
    "\n",
    "def get_initial_supervoxel_shape_param(shapee,r):\n",
    "    \"\"\"\n",
    "    return the initial centers and relative verticies of supervoxels \n",
    "    verticies has location relative to its center\n",
    "    shape is (v p c) - v - super voxel p - point c - coordinate of the point\n",
    "    \"\"\"\n",
    "    verticies=get_initial_points_around(r)\n",
    "    xx,yy,zz=list(map(lambda index :jnp.arange(r,shapee[index]-r,r),[0,1,2]))\n",
    "    centers=list(map(lambda x:list(map( lambda y: list(map(lambda z: jnp.array([x,y,z])    \n",
    "                        ,zz))\n",
    "                    ,yy))            \n",
    "                ,xx ))\n",
    "    centers= list(itertools.chain(*centers))\n",
    "    centers= list(itertools.chain(*centers))\n",
    "    centers=jnp.array(centers)\n",
    "    centers=einops.rearrange(centers,'v c-> v 1 c')\n",
    "    # return centers\n",
    "    verticies_multi=einops.repeat(verticies,'p c->v p c',v=len(centers) )\n",
    "    shape_param=jnp.concatenate([centers,verticies_multi], axis=1)\n",
    "    return shape_param\n"
   ]
  },
  {
   "cell_type": "code",
   "execution_count": 4,
   "metadata": {},
   "outputs": [
    {
     "data": {
      "text/plain": [
       "9450291"
      ]
     },
     "execution_count": 4,
     "metadata": {},
     "output_type": "execute_result"
    }
   ],
   "source": [
    "cfg = ml_collections.config_dict.ConfigDict()\n",
    "cfg.r=4.5# size of super voxel\n",
    "cfg.eps=1e-20 #for numerical stability\n",
    "\n",
    "cfg.to_pow=110# rendering hyperparameter controling exactness and differentiability\n",
    "cfg.pow=5# rendering hyperparameter controling exactness and differentiability\n",
    "cfg.input_shape=(256,256,721)\n",
    "\n",
    "image = jnp.zeros(cfg.input_shape)\n",
    "indicies= einops.rearrange(jnp.indices(image.shape),'c x y z->(x y z) c')\n",
    "\n",
    "indicies.shape[0]//5\n"
   ]
  },
  {
   "cell_type": "code",
   "execution_count": 24,
   "metadata": {},
   "outputs": [
    {
     "name": "stdout",
     "output_type": "stream",
     "text": [
      "n_points 20 max_per_device 16\n",
      "arranges [    0     2     4 ... 19994 19996 19998]\n",
      "divv 2.0 zero_ind_array [3 0]  to_pad 20  scan_axis_num 10 multi 20\n",
      "scan_axis_num 10 indicies (20, 3) n_gpu 2\n",
      "indicies 20  calculated 2.0  \n"
     ]
    },
    {
     "data": {
      "text/plain": [
       "(2, 2, 5, 3)"
      ]
     },
     "execution_count": 24,
     "metadata": {},
     "output_type": "execute_result"
    }
   ],
   "source": [
    "# def pad_to_be_divisible_by(arr):\n",
    "#     jnp.pad(arr, )\n",
    "def get_in_shape_to_compute(indicies,max_per_device):\n",
    "    \"\"\"\n",
    "    We need to calculate the computational plan - we get the devices number \n",
    "            - which need to define our first axis by jax.local_device_count() \n",
    "    we supply the max per gpu num - so we will have the xmap correctly established\n",
    "    so we have \n",
    "    pmap - fisrs axis = number of devices\n",
    "    scan - just to match the data and other constraints\n",
    "    vmap - with number equal or smaller to supplied max per device number     \n",
    "    \"\"\"\n",
    "    padding_value=-5\n",
    "    padding=((padding_value, padding_value),(padding_value,padding_value))\n",
    "\n",
    "    n_gpu=jax.local_device_count() \n",
    "    n_points= indicies.shape[0]\n",
    "    gpu_times_max_per_gpu=n_gpu*max_per_device\n",
    "    remainderr= np.remainder(n_points,n_gpu)\n",
    "    remainder_big= np.remainder(n_points,gpu_times_max_per_gpu)\n",
    "    # in case we do not need to scan just pmap and vmap\n",
    "    if(gpu_times_max_per_gpu>=n_points):\n",
    "        #now we need to check is it divisible by n_gpu if yes nothing need to be done if not \n",
    "        #we need to pad it\n",
    "        is_scan_needed=False # we mark also wheather we add scan axis or not\n",
    "        if(remainderr!=0):\n",
    "            indicies= jnp.pad(indicies, ((0, remainderr), (0, 0)), 'constant', constant_values=padding)\n",
    "        return einops.rearrange(indicies,'(g p) c->g 1 p c',g=n_gpu)\n",
    "    #now for case we need scanning we need to calculate the optimal padding plan \n",
    "    else:\n",
    "        #first maybe we are lucky and all is divisible\n",
    "        if(remainder_big==0):\n",
    "            return einops.rearrange(indicies,'(g s p) c->g s p c',g=n_gpu,p=max_per_device)\n",
    "        #if padding is needed we need to make an effort and calculate it\n",
    "        else:\n",
    "            #now we will first go to the closest number divisible by n_gpu up from n_points from max_per_device\n",
    "            n_points=n_points+remainderr\n",
    "            max_per_device=max_per_device+np.remainder(max_per_device,n_gpu)\n",
    "            max_per_device=max_per_device*n_gpu\n",
    "            print(f\"n_points {n_points} max_per_device {max_per_device}\")\n",
    "            #now we will go with stepping up in n_point and stepping down from max_per_device and check for\n",
    "            #for a way to get the divisible outcome with as small steps as possible\n",
    "            index=10000\n",
    "            while(True):\n",
    "                # for the case that we can not find the solution we leave possibility to increase search space\n",
    "                index=index+10000\n",
    "\n",
    "                arranges=jnp.arange(0,index,n_gpu)\n",
    "                print(f\"arranges {arranges}\")\n",
    "                lenn=len(arranges)\n",
    "                n_points_arr=arranges+n_points\n",
    "                max_per_device_arr=max_per_device-arranges\n",
    "\n",
    "                ind_matrix=jnp.repeat(jnp.reshape(n_points_arr,(1,lenn)),lenn,axis=0 )\n",
    "                scan_matrix=jnp.transpose(jnp.repeat(jnp.reshape(max_per_device_arr,(1,lenn)),lenn ,axis=0))\n",
    "\n",
    "                # we get it into a matrix get a remainders \n",
    "                remainder_matrix= jnp.remainder(ind_matrix,scan_matrix)\n",
    "                # #we look for entry with zeros and return its indicies\n",
    "                remm=jnp.asarray(remainder_matrix==0).nonzero()\n",
    "                zero_ind_array=jnp.stack(remm,axis=1)\n",
    "                if(zero_ind_array.shape[0]>0):\n",
    "                    #now we look for the entry with smallest number of padding steps that meets our criteria\n",
    "                    min_index=jnp.argmin(jnp.sum(zero_ind_array,axis=1))\n",
    "                    #on the basis of calculated values we add padding to indicies and set scanning axis correctly\n",
    "                    to_pad=n_points_arr[zero_ind_array[min_index,1]]\n",
    "                    scan_axis_num=max_per_device_arr[zero_ind_array[min_index,0]]\n",
    "                    # to_pad=n_points_arr[zero_ind_array[min_index,1]]\n",
    "                    # scan_axis_num=max_per_device_arr[zero_ind_array[min_index,0]]\n",
    "                    divv=to_pad/scan_axis_num\n",
    "                    print(f\"divv {divv} zero_ind_array {zero_ind_array[min_index,:]}  to_pad {to_pad}  scan_axis_num {scan_axis_num} multi {scan_axis_num*n_gpu}\")\n",
    "                    indicies= jnp.pad(indicies, ((0,to_pad-n_points+1 ), (0, 0)), 'constant', constant_values=padding)\n",
    "                    print(f\"scan_axis_num {scan_axis_num} indicies {indicies.shape} n_gpu {n_gpu}\")\n",
    "                    print(f\"indicies {indicies.shape[0]}  calculated {indicies.shape[0]/(scan_axis_num)}  \")\n",
    "                    # return einops.rearrange(indicies,'(g p) c->g s p c',g=n_gpu,s=scan_axis_num)\n",
    "                    return einops.rearrange(indicies,'(g s p) c->g s p c',g=n_gpu,p=int(scan_axis_num/n_gpu))\n",
    "\n",
    "\n",
    "        \n",
    "\n",
    "\n",
    "    \n",
    "\n",
    "\n",
    "    # jnp.lcm(indicies.shape[0],200000)\n",
    "    \n",
    "get_in_shape_to_compute(jnp.zeros((19,3)),7).shape\n"
   ]
  },
  {
   "cell_type": "code",
   "execution_count": 2,
   "metadata": {},
   "outputs": [],
   "source": [
    "index=10000\n",
    "n_points=978658\n",
    "max_per_device=54737\n",
    "n_gpu=2\n",
    "index=index+1000\n",
    "#by setting step to n_gpu - we make sure that the padding result will be divisible by it\n",
    "arranges=jnp.arange(0,index,n_gpu)\n",
    "lenn=len(arranges)\n",
    "n_points_arr=arranges+n_points\n",
    "max_per_device_arr=max_per_device-arranges\n",
    "\n",
    "ind_matrix=jnp.repeat(jnp.reshape(n_points_arr,(1,lenn)),lenn,axis=0 )\n",
    "scan_matrix=jnp.transpose(jnp.repeat(jnp.reshape(max_per_device_arr,(1,lenn)),lenn ,axis=0))\n",
    "\n",
    "# we get it into a matrix get a remainders \n",
    "remainder_matrix= jnp.remainder(ind_matrix,scan_matrix)\n",
    "# #we look for entry with zeros and return its indicies\n",
    "indicies=jnp.asarray(remainder_matrix==0).nonzero()\n",
    "zero_ind_array=jnp.stack(indicies,axis=1)\n",
    "\n",
    "#now we look for the entry with smallest number of padding steps that meets our criteria\n",
    "min_index=jnp.argmin(jnp.sum(zero_ind_array,axis=1))\n",
    "divv=n_points_arr[zero_ind_array[min_index,1]]/max_per_device_arr[zero_ind_array[min_index,0]]\n",
    "\n",
    "\n",
    "\n",
    "# print(f\"divv {divv} points {n_points_arr[zero_ind_array[0,1]]} scan {max_per_device_arr[zero_ind_array[0,0]] } \")\n",
    "# print(f\"divv {divv} points {n_points_arr[zero_ind_array[0,0]]} scan {max_per_device_arr[zero_ind_array[0,1]] } \")\n",
    "# jnp.sum(remainder_matrix==0)\n",
    "# jnp.transpose(jnp.repeat(jnp.reshape(max_per_device_arr,(1,index)),index ,axis=0)).shape"
   ]
  },
  {
   "cell_type": "code",
   "execution_count": 25,
   "metadata": {},
   "outputs": [
    {
     "ename": "EinopsError",
     "evalue": " Error while processing rearrange-reduction pattern \"(b v) c-> b v c\".\n Input tensor shape: (47251456, 3). Additional info: {'v': 500000}.\n Shape mismatch, can't divide axis of length 47251456 in chunks of 500000",
     "output_type": "error",
     "traceback": [
      "\u001b[0;31m---------------------------------------------------------------------------\u001b[0m",
      "\u001b[0;31mEinopsError\u001b[0m                               Traceback (most recent call last)",
      "File \u001b[0;32m/usr/local/lib/python3.8/dist-packages/einops/einops.py:412\u001b[0m, in \u001b[0;36mreduce\u001b[0;34m(tensor, pattern, reduction, **axes_lengths)\u001b[0m\n\u001b[1;32m    411\u001b[0m     recipe \u001b[39m=\u001b[39m _prepare_transformation_recipe(pattern, reduction, axes_lengths\u001b[39m=\u001b[39mhashable_axes_lengths)\n\u001b[0;32m--> 412\u001b[0m     \u001b[39mreturn\u001b[39;00m _apply_recipe(recipe, tensor, reduction_type\u001b[39m=\u001b[39;49mreduction)\n\u001b[1;32m    413\u001b[0m \u001b[39mexcept\u001b[39;00m EinopsError \u001b[39mas\u001b[39;00m e:\n",
      "File \u001b[0;32m/usr/local/lib/python3.8/dist-packages/einops/einops.py:235\u001b[0m, in \u001b[0;36m_apply_recipe\u001b[0;34m(recipe, tensor, reduction_type)\u001b[0m\n\u001b[1;32m    233\u001b[0m backend \u001b[39m=\u001b[39m get_backend(tensor)\n\u001b[1;32m    234\u001b[0m init_shapes, reduced_axes, axes_reordering, added_axes, final_shapes \u001b[39m=\u001b[39m \\\n\u001b[0;32m--> 235\u001b[0m     _reconstruct_from_shape(recipe, backend\u001b[39m.\u001b[39;49mshape(tensor))\n\u001b[1;32m    236\u001b[0m tensor \u001b[39m=\u001b[39m backend\u001b[39m.\u001b[39mreshape(tensor, init_shapes)\n",
      "File \u001b[0;32m/usr/local/lib/python3.8/dist-packages/einops/einops.py:200\u001b[0m, in \u001b[0;36m_reconstruct_from_shape_uncached\u001b[0;34m(self, shape)\u001b[0m\n\u001b[1;32m    199\u001b[0m \u001b[39mif\u001b[39;00m \u001b[39misinstance\u001b[39m(length, \u001b[39mint\u001b[39m) \u001b[39mand\u001b[39;00m \u001b[39misinstance\u001b[39m(known_product, \u001b[39mint\u001b[39m) \u001b[39mand\u001b[39;00m length \u001b[39m%\u001b[39m known_product \u001b[39m!=\u001b[39m \u001b[39m0\u001b[39m:\n\u001b[0;32m--> 200\u001b[0m     \u001b[39mraise\u001b[39;00m EinopsError(\u001b[39m\"\u001b[39m\u001b[39mShape mismatch, can\u001b[39m\u001b[39m'\u001b[39m\u001b[39mt divide axis of length \u001b[39m\u001b[39m{}\u001b[39;00m\u001b[39m in chunks of \u001b[39m\u001b[39m{}\u001b[39;00m\u001b[39m\"\u001b[39m\u001b[39m.\u001b[39mformat(\n\u001b[1;32m    201\u001b[0m         length, known_product))\n\u001b[1;32m    203\u001b[0m unknown_axis \u001b[39m=\u001b[39m unknown_axes[\u001b[39m0\u001b[39m]\n",
      "\u001b[0;31mEinopsError\u001b[0m: Shape mismatch, can't divide axis of length 47251456 in chunks of 500000",
      "\nDuring handling of the above exception, another exception occurred:\n",
      "\u001b[0;31mEinopsError\u001b[0m                               Traceback (most recent call last)",
      "Cell \u001b[0;32mIn[25], line 1\u001b[0m\n\u001b[0;32m----> 1\u001b[0m einops\u001b[39m.\u001b[39;49mrearrange(indicies,\u001b[39m'\u001b[39;49m\u001b[39m(b v) c-> b v c\u001b[39;49m\u001b[39m'\u001b[39;49m, v\u001b[39m=\u001b[39;49m\u001b[39m500000\u001b[39;49m)\u001b[39m.\u001b[39mshape\n",
      "File \u001b[0;32m/usr/local/lib/python3.8/dist-packages/einops/einops.py:483\u001b[0m, in \u001b[0;36mrearrange\u001b[0;34m(tensor, pattern, **axes_lengths)\u001b[0m\n\u001b[1;32m    481\u001b[0m         \u001b[39mraise\u001b[39;00m \u001b[39mTypeError\u001b[39;00m(\u001b[39m\"\u001b[39m\u001b[39mRearrange can\u001b[39m\u001b[39m'\u001b[39m\u001b[39mt be applied to an empty list\u001b[39m\u001b[39m\"\u001b[39m)\n\u001b[1;32m    482\u001b[0m     tensor \u001b[39m=\u001b[39m get_backend(tensor[\u001b[39m0\u001b[39m])\u001b[39m.\u001b[39mstack_on_zeroth_dimension(tensor)\n\u001b[0;32m--> 483\u001b[0m \u001b[39mreturn\u001b[39;00m reduce(cast(Tensor, tensor), pattern, reduction\u001b[39m=\u001b[39;49m\u001b[39m'\u001b[39;49m\u001b[39mrearrange\u001b[39;49m\u001b[39m'\u001b[39;49m, \u001b[39m*\u001b[39;49m\u001b[39m*\u001b[39;49maxes_lengths)\n",
      "File \u001b[0;32m/usr/local/lib/python3.8/dist-packages/einops/einops.py:420\u001b[0m, in \u001b[0;36mreduce\u001b[0;34m(tensor, pattern, reduction, **axes_lengths)\u001b[0m\n\u001b[1;32m    418\u001b[0m     message \u001b[39m+\u001b[39m\u001b[39m=\u001b[39m \u001b[39m'\u001b[39m\u001b[39m\\n\u001b[39;00m\u001b[39m Input is list. \u001b[39m\u001b[39m'\u001b[39m\n\u001b[1;32m    419\u001b[0m message \u001b[39m+\u001b[39m\u001b[39m=\u001b[39m \u001b[39m'\u001b[39m\u001b[39mAdditional info: \u001b[39m\u001b[39m{}\u001b[39;00m\u001b[39m.\u001b[39m\u001b[39m'\u001b[39m\u001b[39m.\u001b[39mformat(axes_lengths)\n\u001b[0;32m--> 420\u001b[0m \u001b[39mraise\u001b[39;00m EinopsError(message \u001b[39m+\u001b[39m \u001b[39m'\u001b[39m\u001b[39m\\n\u001b[39;00m\u001b[39m \u001b[39m\u001b[39m{}\u001b[39;00m\u001b[39m'\u001b[39m\u001b[39m.\u001b[39mformat(e))\n",
      "\u001b[0;31mEinopsError\u001b[0m:  Error while processing rearrange-reduction pattern \"(b v) c-> b v c\".\n Input tensor shape: (47251456, 3). Additional info: {'v': 500000}.\n Shape mismatch, can't divide axis of length 47251456 in chunks of 500000"
     ]
    }
   ],
   "source": [
    "einops.rearrange(indicies,'(b v) c-> b v c', v=125000).shape"
   ]
  },
  {
   "cell_type": "code",
   "execution_count": 24,
   "metadata": {},
   "outputs": [
    {
     "data": {
      "text/plain": [
       "Array(32, dtype=int32, weak_type=True)"
      ]
     },
     "execution_count": 24,
     "metadata": {},
     "output_type": "execute_result"
    }
   ],
   "source": []
  },
  {
   "cell_type": "code",
   "execution_count": 28,
   "metadata": {},
   "outputs": [
    {
     "name": "stdout",
     "output_type": "stream",
     "text": [
      "[1 1]\n",
      "[0. 1.]\n"
     ]
    }
   ],
   "source": [
    "x = np.arange(2)\n",
    "y = jax.pmap(lambda x: jax.lax.psum(x, 'i'), axis_name='i')(x)\n",
    "print(y)\n",
    "y = jax.pmap(lambda x: x / jax.lax.psum(x, 'i'), axis_name='i')(x)\n",
    "print(y)\n"
   ]
  },
  {
   "cell_type": "code",
   "execution_count": 29,
   "metadata": {},
   "outputs": [
    {
     "data": {
      "text/plain": [
       "2"
      ]
     },
     "execution_count": 29,
     "metadata": {},
     "output_type": "execute_result"
    }
   ],
   "source": []
  },
  {
   "cell_type": "code",
   "execution_count": null,
   "metadata": {},
   "outputs": [],
   "source": []
  }
 ],
 "metadata": {
  "kernelspec": {
   "display_name": "Python 3",
   "language": "python",
   "name": "python3"
  },
  "language_info": {
   "codemirror_mode": {
    "name": "ipython",
    "version": 3
   },
   "file_extension": ".py",
   "mimetype": "text/x-python",
   "name": "python",
   "nbconvert_exporter": "python",
   "pygments_lexer": "ipython3",
   "version": "3.8.10"
  },
  "orig_nbformat": 4,
  "vscode": {
   "interpreter": {
    "hash": "e7370f93d1d0cde622a1f8e1c04877d8463912d04d973331ad4851f04de6915a"
   }
  }
 },
 "nbformat": 4,
 "nbformat_minor": 2
}
