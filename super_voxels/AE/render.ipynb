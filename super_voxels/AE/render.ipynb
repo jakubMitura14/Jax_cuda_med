{
 "cells": [
  {
   "cell_type": "code",
   "execution_count": 1,
   "metadata": {},
   "outputs": [],
   "source": [
    "import jax\n",
    "import jax.numpy as jnp\n",
    "import io\n",
    "import base64\n",
    "import time\n",
    "from functools import partial\n",
    "from typing import NamedTuple\n",
    "import subprocess\n",
    "import optax\n",
    "import PIL\n",
    "import numpy as np\n",
    "import matplotlib.pylab as pl\n",
    "import einops \n",
    "import SimpleITK as sitk\n",
    "import itertools\n",
    "\n",
    "def norm(v, axis=-1, keepdims=False, eps=0.0):\n",
    "  return jnp.sqrt((v*v).sum(axis, keepdims=keepdims).clip(eps))\n",
    "\n",
    "def normalize(v, axis=-1, eps=1e-20):\n",
    "  return v/norm(v, axis, keepdims=True, eps=eps)\n",
    "def standardize_to_sum_1(v, axis=-1, eps=1e-20):\n",
    "  a=v-jnp.min(v)\n",
    "  # print(f\"a {a}\")\n",
    "  return a/jnp.sum(jnp.ravel(a))\n",
    "\n",
    "\n",
    "class Balls(NamedTuple):\n",
    "  pos: jnp.ndarray\n",
    "  color: jnp.ndarray\n",
    "\n",
    "\n"
   ]
  },
  {
   "cell_type": "code",
   "execution_count": 2,
   "metadata": {},
   "outputs": [],
   "source": [
    "def show_slice(sdf, z=0.0, w=400, r=3.5):\n",
    "  y, x = jnp.mgrid[-r:r:w*1j, -r:r:w*1j].reshape(2, -1)\n",
    "  p = jnp.c_[x, y, x*0.0+z]\n",
    "  d = jax.vmap(sdf)(p).reshape(w, w)\n",
    "  pl.figure(figsize=(5, 5))\n",
    "  kw = dict(extent=(-r, r, -r, r), vmin=-r, vmax=r)\n",
    "  pl.contourf(d, 16, cmap='bwr', **kw );\n",
    "  pl.contour(d, levels=[0.0], colors='black', **kw);\n",
    "  pl.axis('equal')\n",
    "  pl.xlabel('x')\n",
    "  pl.ylabel('y')"
   ]
  },
  {
   "cell_type": "code",
   "execution_count": 3,
   "metadata": {},
   "outputs": [],
   "source": [
    "# def create_balls(key, n=3, R=3.0):\n",
    "#   pos, color = jax.random.uniform(key, [2, n, 3])\n",
    "#   pos = (pos-0.5)*R\n",
    "#   return Balls(pos, color)\n",
    "# normalizedf, balls), z=0.0)"
   ]
  },
  {
   "cell_type": "markdown",
   "metadata": {},
   "source": [
    "idea in general is to have a function that takes a point coordinates and output the value\n",
    "so we have stored for each supervoxel a center, a voxel characteristic (for now just simple gaussian)\n",
    "and set of vectors in diffrent directions basically in polar coordinates\n",
    "next given a point coordinates in the image we can look at a location value for this point of each supervoxel\n",
    "so we will take the voctor from the center of the analyzed supervoxel and look for the dot products of this vector with the stored vectors in the supervoxel publish_display_data\n",
    "we than take either sum or max dot product as the score we than take into account wheather the query vecotr is shorter or longer than stored one\n",
    "so if it is shorter we give high value if it is not small  \n",
    "we will have a score for each supervoxel that will mark basically are the coordinates in the shape or not\n",
    "next we will softmax or sth like that to exaggerate the influence of best fit \n",
    "lastly we will multiply by the output values of the haussians - hence all the supervoxels becouse of the low scores should not contribute significantly \n",
    "and the single one should\n",
    "\n",
    "later when wavelet or some other we should also have the way to get the value in a particular spot without instantiating whole image \n",
    "\n",
    "note \n",
    "in order to avoid collapse of the shape to the point there should be additionall loss function that will maximize the distance between the points within supervoxel"
   ]
  },
  {
   "cell_type": "code",
   "execution_count": 36,
   "metadata": {},
   "outputs": [],
   "source": [
    "def get_initial_points_around(r):\n",
    "    \"\"\"\n",
    "    given center point will give set of points that will create a verticies of shape around this point\n",
    "    the first try of this function is a cube\n",
    "    center_point- jax array with 3 float entries\n",
    "    r - a float that is controlling the initial shape size if it would be a sphere it would be a radius\n",
    "    \"\"\"\n",
    "    res= list(set(itertools.combinations([-r,0.0,r,-r,0.0,r,-r,0.0,r],3)))\n",
    "    return jnp.array( list(filter(lambda points: not (points[0]==0.0 and points[1]==0.0 and points[0]==0.0)  ,res)))\n",
    "     \n",
    "\n",
    "\n",
    "def get_corrected_dist(query_point_normalized,around,eps,pow=3):\n",
    "    \"\"\"\n",
    "    our goal is to get the information how distant in a query point direction it can be to be still within shape\n",
    "    so first we need to asses the angle in respect to all of its verticies to know in which direction to look\n",
    "    next we asses how far in this direction the shape goes from the center (which in this case is the center of coordinate system)\n",
    "    query_point_normalized: the location of the query points given the shape center is the center of coordianate system\n",
    "    around - set of points that are the verticies of the shape in the same coordinate system as above\n",
    "    eps - added for numerical stability\n",
    "    pow - need to be odd number  the bigger the more exact the calculation the smaller the more stable numerically and simpler to differentiate\n",
    "    \"\"\"\n",
    "    #vmap cosine similarity\n",
    "    cosine_similarity_multi=jax.vmap(partial(optax.cosine_similarity, epsilon=eps),(0,None))\n",
    "\n",
    "    angle_similarity= jax.nn.softmax(((cosine_similarity_multi(around,query_point_normalized))+1)**pow)\n",
    "    dists = jnp.sqrt(jnp.sum(around**2,axis=1))\n",
    "    corrected_dist= jnp.sum(dists*angle_similarity)#try also max\n",
    "    return corrected_dist\n",
    "\n",
    "# dist_query= jnp.sqrt(jnp.sum(query_point_normalized**2))\n",
    "# corrected_dist=get_corrected_dist(query_point_normalized,around,eps)\n",
    "# dist_query\n",
    "# dist_query\n",
    "# aa=sq_dists*angle_similarity\n",
    "# # print(around)\n",
    "\n",
    "# jnp.round(aa,decimals=1)\n",
    "# # angle_similarity"
   ]
  },
  {
   "cell_type": "code",
   "execution_count": 5,
   "metadata": {},
   "outputs": [],
   "source": [
    "def soft_less(max_cube,curr,to_pow=90):\n",
    "    \"\"\"\n",
    "    soft version of less operator if max cube is bigger than curr we will get number close to 1\n",
    "    if curr is bigger than max_cube we will gt close to 0\n",
    "    to_pow - the bigger the more exact but less numerically stable solution we get\n",
    "    \"\"\"\n",
    "    diff_a =  to_pow**(max_cube-curr)# if it is positive we are inside if negative outside\n",
    "    diff_b =  to_pow**(curr-max_cube)# if it is positive we are outside if negative inside\n",
    "    # print(f\"max_cube {max_cube}  curr {curr} diff_a {diff_a},diff_b {diff_b} \")\n",
    "    return (diff_a/(diff_a+diff_b))"
   ]
  },
  {
   "cell_type": "code",
   "execution_count": 6,
   "metadata": {},
   "outputs": [
    {
     "name": "stdout",
     "output_type": "stream",
     "text": [
      "bigg 0.9999498068236184 small 0.0\n"
     ]
    }
   ],
   "source": [
    "#should get big\n",
    "max_cube=1.2\n",
    "curr=0.1\n",
    "bigg=soft_less(max_cube,curr)\n",
    "#should get small\n",
    "max_cube=1.2\n",
    "curr=100\n",
    "small=soft_less(max_cube,curr,to_pow=90)\n",
    "\n",
    "print(f\"bigg {bigg} small {small}\")\n"
   ]
  },
  {
   "cell_type": "code",
   "execution_count": 7,
   "metadata": {},
   "outputs": [],
   "source": [
    "\n",
    "@jax.jit\n",
    "def get_value_for_point(param_s_vox, value_param,query_point,to_pow,eps ):\n",
    "    \"\"\"\n",
    "    given a point coordinates will return the value on the basis of current supervoxel data that is stored in param_s_vox\n",
    "    param_s_vox - contain supervoxel parameters\n",
    "        0-3) supervoxel center\n",
    "        4-end verticies points (3 float each)\n",
    "    value_param - parameters required to compute value for points inside the shape\n",
    "    query_point - point that we are analizing wheather is in the given supervoxel or not\n",
    "    \"\"\"\n",
    "    super_voxel_center=param_s_vox[0,:]\n",
    "    #coordinates of verticies\n",
    "    around= param_s_vox[1:,:]\n",
    "    # around= einops.rearrange(around,'(v c)->v c',c=3)\n",
    "    #normalizing so we are acting as if the center of supervoxel is the center of coordinate system\n",
    "    query_point_normalized=query_point-super_voxel_center\n",
    "    #getting the distance from the center of the shape to ith border in the direction of query point\n",
    "    corrected_dist=get_corrected_dist(query_point_normalized,around,eps,pow=pow)\n",
    "    # distance from center of the shepe to query point\n",
    "    dist_query= jnp.sqrt(jnp.sum(query_point_normalized**2))\n",
    "    #closer to 1 if query point is in shape closer to 0 if outside\n",
    "    soft_is_in_shape=soft_less(corrected_dist,dist_query,to_pow=to_pow)\n",
    "    return value_param*soft_is_in_shape\n",
    "\n",
    "def get_spaced_super_voxels(r,array_shape):\n",
    "    \n",
    "    super_voxel_center= jnp.array([10.0,10.0,10.0 ])\n",
    "    \n"
   ]
  },
  {
   "cell_type": "code",
   "execution_count": 41,
   "metadata": {},
   "outputs": [
    {
     "data": {
      "text/plain": [
       "Array([[13.5, 13.5, 13.5],\n",
       "       [ 0. ,  4.5,  4.5],\n",
       "       [-4.5,  0. ,  4.5],\n",
       "       [-4.5,  4.5,  0. ],\n",
       "       [ 4.5,  4.5,  4.5],\n",
       "       [ 4.5,  0. ,  4.5],\n",
       "       [ 0. ,  4.5,  0. ],\n",
       "       [-4.5, -4.5,  4.5],\n",
       "       [ 0. , -4.5,  4.5],\n",
       "       [ 4.5, -4.5,  4.5],\n",
       "       [-4.5,  0. ,  0. ],\n",
       "       [-4.5,  4.5, -4.5],\n",
       "       [ 4.5,  4.5,  0. ],\n",
       "       [ 4.5,  0. ,  0. ],\n",
       "       [-4.5, -4.5,  0. ],\n",
       "       [ 0. ,  4.5, -4.5],\n",
       "       [ 0. , -4.5,  0. ],\n",
       "       [ 4.5, -4.5,  0. ],\n",
       "       [-4.5,  0. , -4.5],\n",
       "       [ 4.5,  4.5, -4.5],\n",
       "       [-4.5,  4.5,  4.5],\n",
       "       [ 4.5,  0. , -4.5],\n",
       "       [-4.5, -4.5, -4.5],\n",
       "       [ 0. , -4.5, -4.5],\n",
       "       [ 4.5, -4.5, -4.5]], dtype=float32)"
      ]
     },
     "execution_count": 41,
     "metadata": {},
     "output_type": "execute_result"
    }
   ],
   "source": [
    "shapee= (20,20,20)\n",
    "r=4.5\n",
    "xx,yy,zz=list(map(lambda index :jnp.arange(r,shapee[index]-r,r),[0,1,2]))\n",
    "verticies=get_initial_points_around(r)\n",
    "centers=list(map(lambda x:list(map( lambda y: list(map(lambda z: jnp.array([x,y,z])    \n",
    "                    ,zz))\n",
    "                ,yy))            \n",
    "            ,xx ))\n",
    "centers= list(itertools.chain(*centers))\n",
    "centers= list(itertools.chain(*centers))\n",
    "centers=jnp.array(centers)\n",
    "centers.shape #27,3\n",
    "centers=einops.rearrange(centers,'v c-> v 1 c')\n",
    "verticies_multi=einops.repeat(verticies,'p c->v p c',v=len(centers) )\n",
    "shape_param=jnp.concatenate([centers,verticies_multi], axis=1)\n",
    "shape_param[26,:,:]"
   ]
  },
  {
   "cell_type": "code",
   "execution_count": 9,
   "metadata": {},
   "outputs": [],
   "source": [
    "eps=1e-20\n",
    "pow=3\n",
    "to_pow=90\n",
    "\n",
    "super_voxel_center= jnp.array([10.0,10.0,10.0 ])\n",
    "r=5.0\n",
    "around=get_initial_points_around(r)\n",
    "\n",
    "param_s_vox=jnp.concatenate([jnp.expand_dims(super_voxel_center, axis=0),around])\n",
    "\n",
    "\n",
    "\n",
    "# query_point=jnp.array([6.5,6.5,6.5])\n",
    "# query_point=jnp.array([180.0,180.0,180.0])\n",
    "value_param=jnp.array([7.0])\n",
    "\n",
    "image = jnp.zeros((100,100,100))\n",
    "indicies= einops.rearrange(jnp.indices(image.shape),'c x y z->(x y z) c')\n",
    "\n",
    "gvfp_points= jax.vmap(get_value_for_point,(None,None,0,None,None))\n",
    "# get_value_for_point(param_s_vox, value_param,query_point,to_pow,eps )\n",
    "\n",
    "\n",
    "\n",
    "\n",
    "# super_voxel_center"
   ]
  },
  {
   "cell_type": "code",
   "execution_count": 10,
   "metadata": {},
   "outputs": [],
   "source": [
    "image_res=gvfp_points(param_s_vox, value_param,indicies,to_pow,eps )\n",
    "image_res= jnp.reshape(image_res,image.shape )\n",
    "image_res = sitk.GetImageFromArray(image_res)\n",
    "sitk.WriteImage(image_res,\"/workspaces/Jax_cuda_med/data/explore/cube.nii.gz\")"
   ]
  },
  {
   "cell_type": "code",
   "execution_count": 11,
   "metadata": {},
   "outputs": [
    {
     "data": {
      "text/plain": [
       "Array([ 0,  1, 10], dtype=int32)"
      ]
     },
     "execution_count": 11,
     "metadata": {},
     "output_type": "execute_result"
    }
   ],
   "source": [
    "aa=jnp.indices((100,100,100))\n",
    "aa= einops.rearrange(aa,'c x y z->(x y z) c')\n",
    "aa[110]"
   ]
  },
  {
   "cell_type": "code",
   "execution_count": 12,
   "metadata": {},
   "outputs": [],
   "source": [
    "# time to save it in a form readable by sitk"
   ]
  }
 ],
 "metadata": {
  "kernelspec": {
   "display_name": "Python 3",
   "language": "python",
   "name": "python3"
  },
  "language_info": {
   "codemirror_mode": {
    "name": "ipython",
    "version": 3
   },
   "file_extension": ".py",
   "mimetype": "text/x-python",
   "name": "python",
   "nbconvert_exporter": "python",
   "pygments_lexer": "ipython3",
   "version": "3.8.10"
  },
  "orig_nbformat": 4,
  "vscode": {
   "interpreter": {
    "hash": "e7370f93d1d0cde622a1f8e1c04877d8463912d04d973331ad4851f04de6915a"
   }
  }
 },
 "nbformat": 4,
 "nbformat_minor": 2
}
