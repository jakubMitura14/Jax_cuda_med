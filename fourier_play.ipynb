{
 "cells": [
  {
   "cell_type": "code",
   "execution_count": 1,
   "metadata": {},
   "outputs": [
    {
     "name": "stderr",
     "output_type": "stream",
     "text": [
      "/usr/local/lib/python3.8/dist-packages/tqdm/auto.py:22: TqdmWarning: IProgress not found. Please update jupyter and ipywidgets. See https://ipywidgets.readthedocs.io/en/stable/user_install.html\n",
      "  from .autonotebook import tqdm as notebook_tqdm\n"
     ]
    }
   ],
   "source": [
    "from matplotlib.pylab import *\n",
    "from jax import lax, random, numpy as jnp\n",
    "from flax import linen as nn\n",
    "import numpy as np\n",
    "from typing import Any, Callable, Optional, Tuple, Type, List\n",
    "from jax import lax, random, numpy as jnp\n",
    "import einops\n",
    "import torchio\n",
    "import torch\n",
    "import matplotlib.pyplot as plt\n",
    "import tempfile\n",
    "import shutil\n",
    "import os\n",
    "import glob\n",
    "import jax\n",
    "# import monai_swin_nD\n",
    "import tensorflow as tf\n",
    "# import monai_einops\n",
    "import torch \n",
    "import einops\n",
    "import torchio as tio\n",
    "import optax\n",
    "from flax.training import train_state  # Useful dataclass to keep train state\n",
    "from torch.utils.data import DataLoader\n",
    "import h5py\n",
    "import jax\n",
    "from testUtils.spleenTest import get_spleen_data\n",
    "from ml_collections import config_dict\n",
    "from super_voxels.SIN.SIN_jax_2D.model_sin_jax_2D import SpixelNet\n",
    "from swinTransformer.optimasation import get_optimiser\n",
    "import swinTransformer.swin_transformer as swin_transformer\n",
    "from swinTransformer.swin_transformer import SwinTransformer\n",
    "from swinTransformer.losses import focal_loss\n",
    "from swinTransformer.metrics import dice_metr\n",
    "from swinTransformer.optimasation import get_optimiser\n",
    "import augmentations.simpleTransforms\n",
    "from augmentations.simpleTransforms import main_augment\n",
    "from testUtils.spleenTest import get_spleen_data\n",
    "from jax.config import config\n",
    "from skimage.segmentation import mark_boundaries\n",
    "import cv2\n",
    "import functools\n",
    "# from torch.utils.tensorboard import SummaryWriter\n",
    "# import torchvision.transforms.functional as F\n",
    "# import torchvision\n",
    "import flax.jax_utils as jax_utils\n",
    "import tensorflow as tf\n",
    "from jax_smi import initialise_tracking\n",
    "import ml_collections\n",
    "\n",
    "jax.numpy.set_printoptions(linewidth=400)\n",
    "config.update(\"jax_debug_nans\", True)\n",
    "config.update(\"jax_disable_jit\", True)\n",
    "config.update('jax_platform_name', 'cpu')"
   ]
  },
  {
   "cell_type": "code",
   "execution_count": null,
   "metadata": {},
   "outputs": [],
   "source": [
    "image=cached_subj =get_spleen_data()[0][0][0,0,:,:,:]\n",
    "jnp.fft.fftn(image,axes=[0,1,2])"
   ]
  }
 ],
 "metadata": {
  "kernelspec": {
   "display_name": "Python 3",
   "language": "python",
   "name": "python3"
  },
  "language_info": {
   "codemirror_mode": {
    "name": "ipython",
    "version": 3
   },
   "file_extension": ".py",
   "mimetype": "text/x-python",
   "name": "python",
   "nbconvert_exporter": "python",
   "pygments_lexer": "ipython3",
   "version": "3.8.10"
  },
  "orig_nbformat": 4
 },
 "nbformat": 4,
 "nbformat_minor": 2
}
