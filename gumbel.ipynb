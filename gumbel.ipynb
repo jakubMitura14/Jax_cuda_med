{
 "cells": [
  {
   "attachments": {},
   "cell_type": "markdown",
   "metadata": {},
   "source": [
    "\n",
    "\n",
    "simplest example\n",
    "https://github.com/1o0ko/gumbel-softmax/blob/master/gumbel.ipynb\n",
    "\n",
    "\n",
    "more advanced examle with paper\n",
    "https://github.com/IamHuijben/gumbel_softmax_sampling/blob/master/notebook_fig4.ipynb\n",
    "\n",
    "\n",
    "jax examples: \n",
    "https://github.com/google/jax/discussions/15617\n",
    "https://github.com/VITA-Group/UVC/blob/e929b832de370d88f5a0c0642bd84074df0eb481/UVC/models/model_distilled.py#L36\n",
    "\n",
    "\n",
    "gumbel for policy choice \n",
    "https://openreview.net/forum?id=bERaNdoegnO\n",
    "\n",
    "https://github.com/omardrwch/mctx/blob/d6eeb014b0dbcd3e60d11e178bd903db97267653/README.md?plain=1#L7"
   ]
  },
  {
   "cell_type": "code",
   "execution_count": null,
   "metadata": {
    "vscode": {
     "languageId": "plaintext"
    }
   },
   "outputs": [],
   "source": []
  }
 ],
 "metadata": {
  "language_info": {
   "name": "python"
  },
  "orig_nbformat": 4
 },
 "nbformat": 4,
 "nbformat_minor": 2
}
