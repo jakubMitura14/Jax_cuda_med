{
 "cells": [
  {
   "cell_type": "code",
   "execution_count": 1,
   "metadata": {},
   "outputs": [
    {
     "name": "stderr",
     "output_type": "stream",
     "text": [
      "/usr/local/lib/python3.8/dist-packages/tqdm/auto.py:22: TqdmWarning: IProgress not found. Please update jupyter and ipywidgets. See https://ipywidgets.readthedocs.io/en/stable/user_install.html\n",
      "  from .autonotebook import tqdm as notebook_tqdm\n"
     ]
    }
   ],
   "source": [
    "from matplotlib.pylab import *\n",
    "from jax import  numpy as jnp\n",
    "from flax import linen as nn\n",
    "import numpy as np\n",
    "from typing import Any, Callable, Optional, Tuple, Type, List\n",
    "from jax import lax, random, numpy as jnp\n",
    "import einops\n",
    "import torchio\n",
    "import torch\n",
    "import matplotlib.pyplot as plt\n",
    "import tempfile\n",
    "import shutil\n",
    "import os\n",
    "import glob\n",
    "import jax\n",
    "# import monai_swin_nD\n",
    "import tensorflow as tf\n",
    "# import monai_einops\n",
    "import torch \n",
    "import einops\n",
    "import torchio as tio\n",
    "import optax\n",
    "from flax.training import train_state  # Useful dataclass to keep train state\n",
    "from torch.utils.data import DataLoader\n",
    "import h5py\n",
    "import jax\n",
    "from jax.config import config\n",
    "from skimage.segmentation import mark_boundaries\n",
    "import cv2\n",
    "import functools\n",
    "# from torch.utils.tensorboard import SummaryWriter\n",
    "# import torchvision.transforms.functional as F\n",
    "# import torchvision\n",
    "import flax.jax_utils as jax_utils\n",
    "import tensorflow as tf\n",
    "from jax_smi import initialise_tracking\n",
    "import ml_collections\n",
    "import time\n",
    "import more_itertools\n",
    "import toolz\n",
    "from subprocess import Popen\n",
    "from flax.training import checkpoints, train_state\n",
    "from flax import struct, serialization\n",
    "import orbax.checkpoint\n",
    "from datetime import datetime\n",
    "from flax.training import orbax_utils\n",
    "from flax.core.frozen_dict import freeze\n",
    "import flax\n",
    "import pandas as pd\n"
   ]
  },
  {
   "cell_type": "code",
   "execution_count": 2,
   "metadata": {},
   "outputs": [
    {
     "data": {
      "text/html": [
       "<div>\n",
       "<style scoped>\n",
       "    .dataframe tbody tr th:only-of-type {\n",
       "        vertical-align: middle;\n",
       "    }\n",
       "\n",
       "    .dataframe tbody tr th {\n",
       "        vertical-align: top;\n",
       "    }\n",
       "\n",
       "    .dataframe thead th {\n",
       "        text-align: right;\n",
       "    }\n",
       "</style>\n",
       "<table border=\"1\" class=\"dataframe\">\n",
       "  <thead>\n",
       "    <tr style=\"text-align: right;\">\n",
       "      <th></th>\n",
       "      <th>0</th>\n",
       "      <th>1</th>\n",
       "      <th>2</th>\n",
       "      <th>3</th>\n",
       "      <th>4</th>\n",
       "      <th>5</th>\n",
       "      <th>6</th>\n",
       "      <th>7</th>\n",
       "    </tr>\n",
       "  </thead>\n",
       "  <tbody>\n",
       "    <tr>\n",
       "      <th>0</th>\n",
       "      <td>0</td>\n",
       "      <td>0</td>\n",
       "      <td>0</td>\n",
       "      <td>0</td>\n",
       "      <td>0</td>\n",
       "      <td>0</td>\n",
       "      <td>0</td>\n",
       "      <td>0</td>\n",
       "    </tr>\n",
       "    <tr>\n",
       "      <th>1</th>\n",
       "      <td>0</td>\n",
       "      <td>0</td>\n",
       "      <td>0</td>\n",
       "      <td>0</td>\n",
       "      <td>1</td>\n",
       "      <td>0</td>\n",
       "      <td>0</td>\n",
       "      <td>0</td>\n",
       "    </tr>\n",
       "    <tr>\n",
       "      <th>2</th>\n",
       "      <td>0</td>\n",
       "      <td>0</td>\n",
       "      <td>1</td>\n",
       "      <td>1</td>\n",
       "      <td>1</td>\n",
       "      <td>1</td>\n",
       "      <td>0</td>\n",
       "      <td>0</td>\n",
       "    </tr>\n",
       "    <tr>\n",
       "      <th>3</th>\n",
       "      <td>0</td>\n",
       "      <td>0</td>\n",
       "      <td>1</td>\n",
       "      <td>1</td>\n",
       "      <td>1</td>\n",
       "      <td>1</td>\n",
       "      <td>0</td>\n",
       "      <td>0</td>\n",
       "    </tr>\n",
       "    <tr>\n",
       "      <th>4</th>\n",
       "      <td>0</td>\n",
       "      <td>1</td>\n",
       "      <td>1</td>\n",
       "      <td>1</td>\n",
       "      <td>1</td>\n",
       "      <td>1</td>\n",
       "      <td>1</td>\n",
       "      <td>0</td>\n",
       "    </tr>\n",
       "    <tr>\n",
       "      <th>5</th>\n",
       "      <td>0</td>\n",
       "      <td>0</td>\n",
       "      <td>1</td>\n",
       "      <td>1</td>\n",
       "      <td>1</td>\n",
       "      <td>1</td>\n",
       "      <td>0</td>\n",
       "      <td>0</td>\n",
       "    </tr>\n",
       "    <tr>\n",
       "      <th>6</th>\n",
       "      <td>0</td>\n",
       "      <td>0</td>\n",
       "      <td>0</td>\n",
       "      <td>0</td>\n",
       "      <td>1</td>\n",
       "      <td>0</td>\n",
       "      <td>0</td>\n",
       "      <td>0</td>\n",
       "    </tr>\n",
       "    <tr>\n",
       "      <th>7</th>\n",
       "      <td>0</td>\n",
       "      <td>0</td>\n",
       "      <td>0</td>\n",
       "      <td>0</td>\n",
       "      <td>0</td>\n",
       "      <td>0</td>\n",
       "      <td>0</td>\n",
       "      <td>0</td>\n",
       "    </tr>\n",
       "  </tbody>\n",
       "</table>\n",
       "</div>"
      ],
      "text/plain": [
       "   0  1  2  3  4  5  6  7\n",
       "0  0  0  0  0  0  0  0  0\n",
       "1  0  0  0  0  1  0  0  0\n",
       "2  0  0  1  1  1  1  0  0\n",
       "3  0  0  1  1  1  1  0  0\n",
       "4  0  1  1  1  1  1  1  0\n",
       "5  0  0  1  1  1  1  0  0\n",
       "6  0  0  0  0  1  0  0  0\n",
       "7  0  0  0  0  0  0  0  0"
      ]
     },
     "execution_count": 2,
     "metadata": {},
     "output_type": "execute_result"
    }
   ],
   "source": [
    "base_size=(4,4)\n",
    "a = np.ones(base_size)\n",
    "a= np.pad(a,((2,2),(2,2)))\n",
    "a[1,4]=1\n",
    "a[6,4]=1\n",
    "a[4,1]=1\n",
    "a[4,6]=1\n",
    "# a= jnp.array(a)\n",
    "pd.DataFrame(a.astype(int))"
   ]
  },
  {
   "cell_type": "code",
   "execution_count": 5,
   "metadata": {},
   "outputs": [
    {
     "name": "stdout",
     "output_type": "stream",
     "text": [
      "not eroded \n",
      "   0  1  2  3  4  5  6  7\n",
      "0  0  0  0  0  0  0  0  0\n",
      "1  0  0  0  0  1  0  0  0\n",
      "2  0  0  1  1  1  1  0  0\n",
      "3  0  0  1  1  1  1  0  0\n",
      "4  0  1  1  1  1  1  1  0\n",
      "5  0  0  1  1  1  1  0  0\n",
      "6  0  0  0  0  1  0  0  0\n",
      "7  0  0  0  0  0  0  0  0 \n",
      " zero_erode \n",
      "   0  1  2  3  4  5  6  7\n",
      "0  0  0  0  0  0  0  0  0\n",
      "1  0  0  0  0  0  0  0  0\n",
      "2  0  0  1  1  1  0  0  0\n",
      "3  0  0  1  1  1  0  0  0\n",
      "4  0  0  1  1  1  1  0  0\n",
      "5  0  0  0  0  1  0  0  0\n",
      "6  0  0  0  0  0  0  0  0\n",
      "7  0  0  0  0  0  0  0  0\n"
     ]
    }
   ],
   "source": [
    "def differentiable_eq_simpl(a:float,b:float):\n",
    "    return a*b+(1-a)*(1-b)\n",
    "\n",
    "def differentiable_and_simple(a:float,b:float):\n",
    "    return a*b\n",
    "\n",
    "def differentiable_or_simple(a:float,b:float):\n",
    "    return a*b+(1-a)*a+(1-b)*a\n",
    "\n",
    "def translate_in_axis(mask:jnp.ndarray, axis:int,is_forward:int,translation_val:int,mask_shape:Tuple[int]):\n",
    "    mask= jnp.take(mask, indices=jnp.arange(translation_val*(1-is_forward),mask_shape[axis]-translation_val* is_forward),axis=axis )\n",
    "    to_pad=np.array([[0,0],[0,0]])\n",
    "    is_back=1-is_forward\n",
    "    to_pad[axis,is_back]=translation_val\n",
    "    return  jnp.pad(mask,to_pad)\n",
    "\n",
    "def simple_erode(prev,curr,next):\n",
    "    return differentiable_or_simple(prev*curr,curr*next)\n",
    "\n",
    "v_soft_erode_around=jax.vmap(simple_erode, in_axes=(0,0,0), out_axes=0)\n",
    "v_v_soft_erode_around=jax.vmap(simple_erode, in_axes=(0,0,0), out_axes=0)\n",
    "\n",
    "mask_shape= a.shape\n",
    "\n",
    "a_b=translate_in_axis(a, axis=0,is_forward=0,translation_val=1,mask_shape=mask_shape)\n",
    "a_f=translate_in_axis(a, axis=0,is_forward=1,translation_val=1,mask_shape=mask_shape)\n",
    "\n",
    "a_u=translate_in_axis(a, axis=1,is_forward=0,translation_val=1,mask_shape=mask_shape)\n",
    "a_d=translate_in_axis(a, axis=1,is_forward=1,translation_val=1,mask_shape=mask_shape)\n",
    "\n",
    "zero_erode=v_v_soft_erode_around(a_b,a,a_f)*v_v_soft_erode_around(a_u,a,a_d) \n",
    "print(f\"not eroded \\n{pd.DataFrame(a.astype(int))} \\n zero_erode \\n{pd.DataFrame(zero_erode.astype(int))}\")\n",
    "\n",
    "\n",
    "# def soft_erode(prev,curr,next):\n",
    "#     \"\"\" \n",
    "#     will take the previous current and next point \n",
    "#     and will do modified differentiable binary erosion\n",
    "#     need to take into account at least 3 pixels at a time and if it is 010 do not change otherwise optimal solutions will be thin strips so 110 should become 100 \n",
    "#     110 100 \n",
    "#     011 001\n",
    "#     010 010\n",
    "#     111 111\n",
    "#     000 000\n",
    "#     \"\"\"\n",
    "#     edge_diffrent= 1-differentiable_eq_simpl(prev,next)\n",
    "#     should_be_0=differentiable_and_simple(edge_diffrent,curr)\n",
    "#     return (1-should_be_0)*curr\n",
    "\n",
    "\n",
    "\n",
    "\n",
    "\n",
    "# print(f\"sh 0 {soft_erode(1,1,0)}  sh 0 {soft_erode(1,1,0)}  sh 0 {soft_erode(0,0,1)}  sh 0 {soft_erode(0,0,0)} sh 1 {soft_erode(0,1,0)} sh 1 {soft_erode(1,1,1)}    \")\n"
   ]
  },
  {
   "cell_type": "code",
   "execution_count": 4,
   "metadata": {},
   "outputs": [],
   "source": [
    "def soft_erode_around(prev,curr,next,up,down):\n",
    "    \"\"\" \n",
    "    will take the previous current and next point \n",
    "    and will do modified differentiable binary erosion\n",
    "    \"\"\"\n",
    "    edge_diffrent= 1-differentiable_eq_simpl(prev,next)\n",
    "    edge_diffrent_up_down= 1-differentiable_eq_simpl(up,down)\n",
    "    should_be_0_a=differentiable_and_simple(edge_diffrent,curr)\n",
    "    should_be_0_b=differentiable_and_simple(edge_diffrent_up_down,curr)\n",
    "    should_be_0=differentiable_or_simple(should_be_0_a,should_be_0_b)\n",
    "    return (1-should_be_0)*curr"
   ]
  },
  {
   "cell_type": "code",
   "execution_count": 5,
   "metadata": {},
   "outputs": [
    {
     "name": "stdout",
     "output_type": "stream",
     "text": [
      "not eroded \n",
      "   0  1  2  3  4  5  6  7\n",
      "0  0  0  0  0  0  0  0  0\n",
      "1  0  0  0  0  1  0  0  0\n",
      "2  0  0  1  1  1  1  0  0\n",
      "3  0  0  1  1  1  1  0  0\n",
      "4  0  1  1  1  1  1  1  0\n",
      "5  0  0  1  1  1  1  0  0\n",
      "6  0  0  0  0  1  0  0  0\n",
      "7  0  0  0  0  0  0  0  0 \n",
      " zero_erode \n",
      "   0  1  2  3  4  5  6  7\n",
      "0  0  0  0  0  0  0  0  0\n",
      "1  0  0  0  0  0  0  0  0\n",
      "2  0  0  0  0  1  0  0  0\n",
      "3  0  0  1  1  1  1  0  0\n",
      "4  0  1  1  1  1  1  1  0\n",
      "5  0  0  0  0  1  0  0  0\n",
      "6  0  0  0  0  0  0  0  0\n",
      "7  0  0  0  0  0  0  0  0\n"
     ]
    }
   ],
   "source": [
    "v_soft_erode_around=jax.vmap(soft_erode_around, in_axes=(0,0,0,0,0), out_axes=0)\n",
    "v_v_soft_erode_around=jax.vmap(v_soft_erode_around, in_axes=(0,0,0,0,0), out_axes=0)\n",
    "mask_shape=a.shape\n",
    "a_b=translate_in_axis(a, axis=0,is_forward=0,translation_val=1,mask_shape=mask_shape)\n",
    "a_f=translate_in_axis(a, axis=0,is_forward=1,translation_val=1,mask_shape=mask_shape)\n",
    "\n",
    "a_u=translate_in_axis(a, axis=1,is_forward=0,translation_val=1,mask_shape=mask_shape)\n",
    "a_d=translate_in_axis(a, axis=1,is_forward=1,translation_val=1,mask_shape=mask_shape)\n",
    "\n",
    "zero_erode=v_v_soft_erode_around(a_b,a,a_f,a_u,a_d)\n",
    "print(f\"not eroded \\n{pd.DataFrame(a.astype(int))} \\n zero_erode \\n{pd.DataFrame(zero_erode.astype(int))}\")\n"
   ]
  },
  {
   "cell_type": "code",
   "execution_count": 6,
   "metadata": {},
   "outputs": [
    {
     "name": "stdout",
     "output_type": "stream",
     "text": [
      "not eroded \n",
      "   0  1  2  3  4  5  6  7\n",
      "0  0  0  0  0  0  0  0  0\n",
      "1  0  0  0  0  1  0  0  0\n",
      "2  0  0  1  1  1  1  0  0\n",
      "3  0  0  1  1  1  1  0  0\n",
      "4  0  1  1  1  1  1  1  0\n",
      "5  0  0  1  1  1  1  0  0\n",
      "6  0  0  0  0  1  0  0  0\n",
      "7  0  0  0  0  0  0  0  0 \n",
      " zero_erode_2 \n",
      "   0  1  2  3  4  5  6  7\n",
      "0  0  0  0  0  0  0  0  0\n",
      "1  0  0  0  0  0  0  0  0\n",
      "2  0  0  0  0  0  0  0  0\n",
      "3  0  0  0  0  1  0  0  0\n",
      "4  0  1  0  0  1  0  1  0\n",
      "5  0  0  0  0  0  0  0  0\n",
      "6  0  0  0  0  0  0  0  0\n",
      "7  0  0  0  0  0  0  0  0\n"
     ]
    }
   ],
   "source": [
    "a_b=translate_in_axis(zero_erode, axis=0,is_forward=0,translation_val=1,mask_shape=mask_shape)\n",
    "a_f=translate_in_axis(zero_erode, axis=0,is_forward=1,translation_val=1,mask_shape=mask_shape)\n",
    "a_u=translate_in_axis(zero_erode, axis=1,is_forward=0,translation_val=1,mask_shape=mask_shape)\n",
    "a_d=translate_in_axis(zero_erode, axis=1,is_forward=1,translation_val=1,mask_shape=mask_shape)\n",
    "zero_erode_2=v_v_soft_erode_around(a_b,zero_erode,a_f,a_u,a_d)\n",
    "\n",
    "print(f\"not eroded \\n{pd.DataFrame(a.astype(int))} \\n zero_erode_2 \\n{pd.DataFrame(zero_erode_2.astype(int))}\")\n"
   ]
  },
  {
   "cell_type": "code",
   "execution_count": 7,
   "metadata": {},
   "outputs": [],
   "source": [
    "# v_soft_erode=jax.vmap(soft_erode, in_axes=(0,0,0), out_axes=0)\n",
    "# v_v_soft_erode=jax.vmap(v_soft_erode, in_axes=(0,0,0), out_axes=0)\n",
    "# mask_shape=a.shape\n",
    "# a_b=translate_in_axis(a, axis=0,is_forward=0,translation_val=1,mask_shape=mask_shape)\n",
    "# a_f=translate_in_axis(a, axis=0,is_forward=1,translation_val=1,mask_shape=mask_shape)\n",
    "# zero_erode=v_v_soft_erode(a_b,a,a_f)\n",
    "# a_b=translate_in_axis(a, axis=1,is_forward=0,translation_val=1,mask_shape=mask_shape)\n",
    "# a_f=translate_in_axis(a, axis=1,is_forward=1,translation_val=1,mask_shape=mask_shape)\n",
    "# one_erode=v_v_soft_erode(a_b,a,a_f)\n",
    "# res= zero_erode*one_erode\n",
    "\n",
    "# print(f\"not eroded \\n{pd.DataFrame(a.astype(int))} \\n zero_erode \\n{pd.DataFrame(zero_erode.astype(int))}\")"
   ]
  },
  {
   "cell_type": "code",
   "execution_count": 8,
   "metadata": {},
   "outputs": [],
   "source": [
    "# print(f\"one_erode \\n{pd.DataFrame(one_erode.astype(int))}   \\n eroded \\n{pd.DataFrame(res.astype(int))}  \")"
   ]
  },
  {
   "cell_type": "code",
   "execution_count": 66,
   "metadata": {},
   "outputs": [],
   "source": [
    "from itertools import product\n",
    "from itertools import starmap\n",
    "r_x_total= 3\n",
    "r_y_total= 3\n",
    "true_num_dim=3\n",
    "aa=list(product(range(1,r_x_total+1),range(1,r_y_total+1),range(true_num_dim)))\n",
    "# list(map(lambda el: ,aa))\n",
    "aa\n",
    "bb=list(map(lambda tupl: (tupl[1],tupl[0]) ,list(enumerate(aa)) ))\n",
    "# dd=dict(list(zip(aa,bb)))\n",
    "dd=dict(bb)\n",
    "dd[(1,2,0)]\n",
    "\n",
    "def get_index(r_x,r_y,dim_stride):\n",
    "    r_x=r_x-1\n",
    "    r_y=r_y-1\n",
    "    return (r_x*r_y_total*true_num_dim) + (r_y*true_num_dim) + dim_stride\n",
    "\n",
    "def get_fun(res):\n",
    "    return res \n",
    "aab=list(map(lambda tupl: functools.partial(get_fun,res=(tupl,1, (2,0,7.1)))  ,aa))\n",
    "aab[1]()\n",
    "\n",
    "def selesctt(index,v):\n",
    "    return jax.lax.switch(index, aab)"
   ]
  },
  {
   "cell_type": "code",
   "execution_count": 24,
   "metadata": {},
   "outputs": [
    {
     "name": "stdout",
     "output_type": "stream",
     "text": [
      "dir_strides (6, 1) aa (6, 2)\n"
     ]
    },
    {
     "data": {
      "text/plain": [
       "array([[1, 0, 0],\n",
       "       [1, 1, 1],\n",
       "       [2, 1, 0],\n",
       "       [2, 2, 1],\n",
       "       [3, 2, 0],\n",
       "       [3, 3, 1]])"
      ]
     },
     "execution_count": 24,
     "metadata": {},
     "output_type": "execute_result"
    }
   ],
   "source": [
    "from itertools import product\n",
    "from itertools import starmap\n",
    "#r_x,r_y,dim_stride\n",
    "gold=[\n",
    "    [1,0,0]\n",
    "    ,[1,1,1]\n",
    "    ,[2,1,0]\n",
    "    ,[2,2,1]\n",
    "    ,[3,2,0]\n",
    "    ,[3,3,1]\n",
    "    ]\n",
    "r_x_total= 3\n",
    "r_y_total= 3\n",
    "true_num_dim=2\n",
    "# aa=list(product(range(1,r_x_total+1),range(1,r_y_total+1),range(true_num_dim)))\n",
    "aa=list(product(range(1,r_x_total+1),range(0,r_y_total+1)))\n",
    "aa= list(filter(lambda tupl: tupl[0]>=tupl[1] and (tupl[1]+1)>=(tupl[0]) ,aa))\n",
    "dir_strides= einops.repeat(np.arange(true_num_dim),'a->(b a) 1',b=np.array(aa).shape[0]//true_num_dim)\n",
    "print(f\"dir_strides {dir_strides.shape} aa {np.array(aa).shape}\")\n",
    "np.concatenate([np.array(aa),dir_strides],axis=1)\n"
   ]
  },
  {
   "cell_type": "code",
   "execution_count": 30,
   "metadata": {},
   "outputs": [
    {
     "data": {
      "text/plain": [
       "13"
      ]
     },
     "execution_count": 30,
     "metadata": {},
     "output_type": "execute_result"
    }
   ],
   "source": [
    "bb_f=bb.flatten()\n",
    "mask_num=4\n",
    "main_index=3\n",
    "mask_index=1\n",
    "bb_f[main_index*mask_num+ mask_index]"
   ]
  },
  {
   "cell_type": "code",
   "execution_count": 38,
   "metadata": {},
   "outputs": [
    {
     "data": {
      "text/plain": [
       "Array([[ 0,  0,  0,  0],\n",
       "       [ 0,  1,  2,  3],\n",
       "       [ 4,  5,  6,  7],\n",
       "       [ 8,  9, 10, 11],\n",
       "       [12, 13, 14, 15],\n",
       "       [16, 17, 18, 19]], dtype=int32)"
      ]
     },
     "execution_count": 38,
     "metadata": {},
     "output_type": "execute_result"
    }
   ],
   "source": [
    "def translate_in_axis(mask:jnp.ndarray, axis:int,is_forward:int,translation_val:int,mask_shape:Tuple[int]):\n",
    "    mask= jnp.take(mask, indices=jnp.arange(translation_val*(1-is_forward),mask_shape[axis]-translation_val* is_forward),axis=axis )\n",
    "    to_pad=np.array([[0,0],[0,0]])\n",
    "    is_back=1-is_forward\n",
    "    to_pad[axis,is_back]=translation_val\n",
    "    res= jnp.pad(mask,to_pad)\n",
    "    return res\n",
    "\n"
   ]
  },
  {
   "cell_type": "code",
   "execution_count": 40,
   "metadata": {},
   "outputs": [],
   "source": [
    "def translate_in_axis_x_up(arr:jnp.ndarray):\n",
    "    return jnp.roll(arr, 1, axis=0).at[0,:].set(0)\n",
    "def translate_in_axis_x_down(arr:jnp.ndarray):\n",
    "    return jnp.roll(arr, -1, axis=0).at[-1,:].set(0)\n",
    "def translate_in_axis_y_up(arr:jnp.ndarray):\n",
    "    return jnp.roll(arr, 1, axis=1).at[:,0].set(0)\n",
    "def translate_in_axis_y_down(arr:jnp.ndarray):\n",
    "    return jnp.roll(arr, 1, axis=1).at[:,-1].set(0)\n"
   ]
  },
  {
   "cell_type": "code",
   "execution_count": 13,
   "metadata": {},
   "outputs": [
    {
     "name": "stdout",
     "output_type": "stream",
     "text": [
      "[[ 0  1  2  3]\n",
      " [ 4  5  6  7]\n",
      " [ 8  9 10 11]]\n",
      "\n",
      " \n",
      "[[ 5  6]\n",
      " [ 9 10]]\n"
     ]
    },
    {
     "data": {
      "text/plain": [
       "(1, 2, 2, 1)"
      ]
     },
     "execution_count": 13,
     "metadata": {},
     "output_type": "execute_result"
    }
   ],
   "source": [
    "x = jnp.arange(12).reshape(1,3, 4,1)\n",
    "print(x[0,:,:,0])\n",
    "print(\"\\n \")\n",
    "x_b=jax.lax.dynamic_slice(x,(0,1, 1,0), (1,2, 2,1))\n",
    "print(x_b[0,:,:,0])\n",
    "x_b.shape"
   ]
  },
  {
   "cell_type": "code",
   "execution_count": 4,
   "metadata": {},
   "outputs": [
    {
     "ename": "ValueError",
     "evalue": "String padding is not implemented for transposed convolution using this op. Please either exactly specify the required padding or use conv_transpose.",
     "output_type": "error",
     "traceback": [
      "\u001b[0;31m---------------------------------------------------------------------------\u001b[0m",
      "\u001b[0;31mValueError\u001b[0m                                Traceback (most recent call last)",
      "Cell \u001b[0;32mIn[4], line 15\u001b[0m\n\u001b[1;32m     10\u001b[0m img \u001b[39m=\u001b[39m jnp\u001b[39m.\u001b[39mzeros((\u001b[39m60\u001b[39m, \u001b[39m10\u001b[39m, \u001b[39m11\u001b[39m, \u001b[39m3\u001b[39m), dtype\u001b[39m=\u001b[39mjnp\u001b[39m.\u001b[39mfloat32)\n\u001b[1;32m     11\u001b[0m dn \u001b[39m=\u001b[39m lax\u001b[39m.\u001b[39mconv_dimension_numbers(img\u001b[39m.\u001b[39mshape,     \u001b[39m# only ndim matters, not shape\u001b[39;00m\n\u001b[1;32m     12\u001b[0m                                 kernel\u001b[39m.\u001b[39mshape,  \u001b[39m# only ndim matters, not shape \u001b[39;00m\n\u001b[1;32m     13\u001b[0m                                 (\u001b[39m'\u001b[39m\u001b[39mNHWC\u001b[39m\u001b[39m'\u001b[39m, \u001b[39m'\u001b[39m\u001b[39mHWIO\u001b[39m\u001b[39m'\u001b[39m, \u001b[39m'\u001b[39m\u001b[39mNHWC\u001b[39m\u001b[39m'\u001b[39m))  \u001b[39m# the important bit\u001b[39;00m\n\u001b[0;32m---> 15\u001b[0m res\u001b[39m=\u001b[39mjax\u001b[39m.\u001b[39;49mlax\u001b[39m.\u001b[39;49mconv_general_dilated(img, kernel,(\u001b[39m1\u001b[39;49m,\u001b[39m1\u001b[39;49m), \u001b[39m'\u001b[39;49m\u001b[39mSAME\u001b[39;49m\u001b[39m'\u001b[39;49m,\n\u001b[1;32m     16\u001b[0m                               (\u001b[39m2\u001b[39;49m,\u001b[39m1\u001b[39;49m),  \u001b[39m# lhs/image dilation\u001b[39;49;00m\n\u001b[1;32m     17\u001b[0m                                (\u001b[39m1\u001b[39;49m,\u001b[39m1\u001b[39;49m),  \u001b[39m# rhs/kernel dilation\u001b[39;49;00m\n\u001b[1;32m     18\u001b[0m                                dn)    \u001b[39m# dimension_numbers = lhs, rhs, out dimension permutation)))\u001b[39;00m\n\u001b[1;32m     19\u001b[0m res\u001b[39m.\u001b[39mshape\n",
      "File \u001b[0;32m/usr/local/lib/python3.8/dist-packages/jax/_src/lax/convolution.py:136\u001b[0m, in \u001b[0;36mconv_general_dilated\u001b[0;34m(lhs, rhs, window_strides, padding, lhs_dilation, rhs_dilation, dimension_numbers, feature_group_count, batch_group_count, precision, preferred_element_type)\u001b[0m\n\u001b[1;32m    134\u001b[0m   lhs_dilation \u001b[39m=\u001b[39m (\u001b[39m1\u001b[39m,) \u001b[39m*\u001b[39m (lhs\u001b[39m.\u001b[39mndim \u001b[39m-\u001b[39m \u001b[39m2\u001b[39m)\n\u001b[1;32m    135\u001b[0m \u001b[39melif\u001b[39;00m \u001b[39misinstance\u001b[39m(padding, \u001b[39mstr\u001b[39m) \u001b[39mand\u001b[39;00m \u001b[39mnot\u001b[39;00m \u001b[39mlen\u001b[39m(lhs_dilation) \u001b[39m==\u001b[39m lhs_dilation\u001b[39m.\u001b[39mcount(\u001b[39m1\u001b[39m):\n\u001b[0;32m--> 136\u001b[0m   \u001b[39mraise\u001b[39;00m \u001b[39mValueError\u001b[39;00m(\n\u001b[1;32m    137\u001b[0m       \u001b[39m\"\u001b[39m\u001b[39mString padding is not implemented for transposed convolution \u001b[39m\u001b[39m\"\u001b[39m\n\u001b[1;32m    138\u001b[0m       \u001b[39m\"\u001b[39m\u001b[39musing this op. Please either exactly specify the required padding or \u001b[39m\u001b[39m\"\u001b[39m\n\u001b[1;32m    139\u001b[0m       \u001b[39m\"\u001b[39m\u001b[39muse conv_transpose.\u001b[39m\u001b[39m\"\u001b[39m)\n\u001b[1;32m    140\u001b[0m \u001b[39mif\u001b[39;00m rhs_dilation \u001b[39mis\u001b[39;00m \u001b[39mNone\u001b[39;00m:\n\u001b[1;32m    141\u001b[0m   rhs_dilation \u001b[39m=\u001b[39m (\u001b[39m1\u001b[39m,) \u001b[39m*\u001b[39m (rhs\u001b[39m.\u001b[39mndim \u001b[39m-\u001b[39m \u001b[39m2\u001b[39m)\n",
      "\u001b[0;31mValueError\u001b[0m: String padding is not implemented for transposed convolution using this op. Please either exactly specify the required padding or use conv_transpose."
     ]
    }
   ],
   "source": [
    "# ConvDimensionNumbers(lhs_spec=(0, 3, 1, 2), rhs_spec=(3, 2, 0, 1), out_spec=(0, 3, 1, 2))\n",
    "\n",
    "img_shape= (0,3, 1, 2)  \n",
    "kernel_shape=(3, 2, 0, 1)\n",
    "# kernel_shape=(32, 1, 5, 5)  \n",
    "# img_shape= (70, 64, 32, 67)\n",
    "# kernel= jnp.ones(kernel_shape)\n",
    "# img= jnp.ones(img_shape)\n",
    "kernel = jnp.zeros((5, 5,3, 10), dtype=jnp.float32)\n",
    "img = jnp.zeros((60, 10, 11, 3), dtype=jnp.float32)\n",
    "dn = lax.conv_dimension_numbers(img.shape,     # only ndim matters, not shape\n",
    "                                kernel.shape,  # only ndim matters, not shape \n",
    "                                ('NHWC', 'HWIO', 'NHWC'))  # the important bit\n",
    "\n",
    "res=jax.lax.conv_general_dilated(img, kernel,(1,1), 'SAME',\n",
    "                              (2,1),  # lhs/image dilation\n",
    "                               (1,1),  # rhs/kernel dilation\n",
    "                               dn)    # dimension_numbers = lhs, rhs, out dimension permutation)))\n",
    "res.shape"
   ]
  },
  {
   "cell_type": "code",
   "execution_count": 23,
   "metadata": {},
   "outputs": [
    {
     "data": {
      "text/plain": [
       "(60, 20, 11, 10)"
      ]
     },
     "execution_count": 23,
     "metadata": {},
     "output_type": "execute_result"
    }
   ],
   "source": [
    "img_shape= (0,3, 1, 2)  \n",
    "kernel_shape=(3, 2, 0, 1)\n",
    "# kernel_shape=(32, 1, 5, 5)  \n",
    "# img_shape= (70, 64, 32, 67)\n",
    "# kernel= jnp.ones(kernel_shape)\n",
    "# img= jnp.ones(img_shape)\n",
    "kernel = jnp.zeros((5, 5,3, 10), dtype=jnp.float32)\n",
    "img = jnp.zeros((60, 10, 11, 3), dtype=jnp.float32)\n",
    "dn = lax.conv_dimension_numbers(img.shape,     # only ndim matters, not shape\n",
    "                                kernel.shape,  # only ndim matters, not shape \n",
    "                                ('NHWC', 'HWIO', 'NHWC'))  # the important bit\n",
    "\n",
    "res=jax.lax.conv_transpose(img, kernel,(2,1), 'SAME', (1,1),None)\n",
    "                            #   (1,1),  # lhs/image dilation\n",
    "                            #    (1,1),  # rhs/kernel dilation\n",
    "\n",
    "# res= jnp.swapaxes(res,2,1)\n",
    "                            #    dn)    # dimension_numbers = lhs, rhs, out dimension permutation)))\n",
    "res.shape\n",
    "\n"
   ]
  },
  {
   "cell_type": "code",
   "execution_count": null,
   "metadata": {},
   "outputs": [],
   "source": []
  }
 ],
 "metadata": {
  "kernelspec": {
   "display_name": "Python 3",
   "language": "python",
   "name": "python3"
  },
  "language_info": {
   "codemirror_mode": {
    "name": "ipython",
    "version": 3
   },
   "file_extension": ".py",
   "mimetype": "text/x-python",
   "name": "python",
   "nbconvert_exporter": "python",
   "pygments_lexer": "ipython3",
   "version": "3.8.10"
  },
  "orig_nbformat": 4
 },
 "nbformat": 4,
 "nbformat_minor": 2
}
