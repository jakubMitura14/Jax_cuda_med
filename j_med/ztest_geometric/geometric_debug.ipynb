{
 "cells": [
  {
   "cell_type": "code",
   "execution_count": null,
   "metadata": {},
   "outputs": [],
   "source": [
    "from matplotlib.pylab import *\n",
    "from jax import  numpy as jnp\n",
    "from flax import linen as nn\n",
    "import numpy as np\n",
    "from typing import Any, Callable, Optional, Tuple, Type, List\n",
    "from jax import lax, random, numpy as jnp\n",
    "import einops\n",
    "import torchio\n",
    "import torch\n",
    "import matplotlib.pyplot as plt\n",
    "import tempfile\n",
    "import shutil\n",
    "import os\n",
    "import glob\n",
    "import jax\n",
    "import tensorflow as tf\n",
    "import torch \n",
    "import einops\n",
    "import torchio as tio\n",
    "import optax\n",
    "from flax.training import train_state  \n",
    "import h5py\n",
    "import jax\n",
    "import tensorflow as tf\n",
    "\n",
    "from jax_smi import initialise_tracking\n",
    "from skimage.segmentation import mark_boundaries\n",
    "from ..super_voxels.SIN.SIN_jax_2D_with_gratings.model_sin_jax_2D import SpixelNet\n",
    "from ..super_voxels.SIN.SIN_jax_2D_with_gratings.model_sin_jax_utils_2D import *\n",
    "from ..super_voxels.SIN.SIN_jax_2D_with_gratings.shape_reshape_functions import *\n",
    "from ..testUtils.tensorboard_utils import *\n"
   ]
  }
 ],
 "metadata": {
  "language_info": {
   "name": "python"
  },
  "orig_nbformat": 4
 },
 "nbformat": 4,
 "nbformat_minor": 2
}
