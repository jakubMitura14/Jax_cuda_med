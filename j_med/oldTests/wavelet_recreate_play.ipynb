{
 "cells": [
  {
   "cell_type": "code",
   "execution_count": 1,
   "metadata": {},
   "outputs": [
    {
     "name": "stderr",
     "output_type": "stream",
     "text": [
      "/usr/local/lib/python3.8/dist-packages/tqdm/auto.py:22: TqdmWarning: IProgress not found. Please update jupyter and ipywidgets. See https://ipywidgets.readthedocs.io/en/stable/user_install.html\n",
      "  from .autonotebook import tqdm as notebook_tqdm\n"
     ]
    }
   ],
   "source": [
    "from flax import linen as nn\n",
    "import numpy as np\n",
    "from typing import Any, Callable, Optional, Tuple, Type, List\n",
    "from jax import lax, random, numpy as jnp\n",
    "import einops\n",
    "import torchio\n",
    "import torch\n",
    "import matplotlib.pyplot as plt\n",
    "import tempfile\n",
    "import shutil\n",
    "import os\n",
    "import glob\n",
    "import jax\n",
    "import tensorflow as tf\n",
    "import torch \n",
    "import einops\n",
    "import torchio as tio\n",
    "import optax\n",
    "from flax.training import train_state  \n",
    "from torch.utils.data import DataLoader\n",
    "import jax.profiler\n",
    "import ml_collections\n",
    "from ml_collections import config_dict\n",
    "from testUtils.spleenTest import get_spleen_data\n",
    "import pandas as pd\n"
   ]
  },
  {
   "cell_type": "code",
   "execution_count": 5,
   "metadata": {},
   "outputs": [],
   "source": [
    "shape_props=(32, 32, 16, 3, 2)\n",
    "shape_probs=(32, 32, 16, 2)\n",
    "props= np.random.random(shape_props)\n",
    "probs= np.random.random(shape_probs)\n"
   ]
  },
  {
   "cell_type": "code",
   "execution_count": 8,
   "metadata": {},
   "outputs": [
    {
     "data": {
      "text/plain": [
       "(32, 32, 16, 3, 2)"
      ]
     },
     "execution_count": 8,
     "metadata": {},
     "output_type": "execute_result"
    }
   ],
   "source": [
    "a= np.multiply(probs,props[:,:,:,0,:] )\n",
    "b= np.multiply(probs,props[:,:,:,1,:] )\n",
    "c= np.multiply(probs,props[:,:,:,2,:] )\n",
    "res_stacked= np.stack( [a,b,c], axis=-2)\n",
    "res_stacked.shape\n"
   ]
  },
  {
   "cell_type": "code",
   "execution_count": 9,
   "metadata": {},
   "outputs": [
    {
     "data": {
      "text/plain": [
       "(32, 32, 16, 3, 2)"
      ]
     },
     "execution_count": 9,
     "metadata": {},
     "output_type": "execute_result"
    }
   ],
   "source": [
    "probss=einops.repeat(probs,'h w d p-> h w d r p',r=3)\n",
    "res_res=np.multiply(probss,props)\n",
    "res_res.shape"
   ]
  },
  {
   "cell_type": "code",
   "execution_count": 10,
   "metadata": {},
   "outputs": [
    {
     "data": {
      "text/plain": [
       "True"
      ]
     },
     "execution_count": 10,
     "metadata": {},
     "output_type": "execute_result"
    }
   ],
   "source": [
    "np.allclose(res_stacked,res_res )"
   ]
  },
  {
   "cell_type": "code",
   "execution_count": 2,
   "metadata": {},
   "outputs": [
    {
     "name": "stdout",
     "output_type": "stream",
     "text": [
      "data loaded from hdf5\n"
     ]
    }
   ],
   "source": [
    "cached_subj =get_spleen_data()[0]\n",
    "sample_3d_ct=cached_subj[0]\n",
    "sample_2d_ct=sample_3d_ct[0,0,:,:,64]\n",
    "sample_2d_Slic=cached_subj[2][:,:,64]\n",
    "\n"
   ]
  },
  {
   "cell_type": "code",
   "execution_count": 3,
   "metadata": {},
   "outputs": [
    {
     "data": {
      "text/plain": [
       "Array([[[[[0., 0., 0., ..., 0., 0., 0.],\n",
       "          [0., 0., 0., ..., 0., 0., 0.],\n",
       "          [0., 0., 0., ..., 0., 0., 0.],\n",
       "          ...,\n",
       "          [0., 0., 0., ..., 0., 0., 0.],\n",
       "          [0., 0., 0., ..., 0., 0., 0.],\n",
       "          [0., 0., 0., ..., 0., 0., 0.]],\n",
       "\n",
       "         [[0., 0., 0., ..., 0., 0., 0.],\n",
       "          [0., 0., 0., ..., 0., 0., 0.],\n",
       "          [0., 0., 0., ..., 0., 0., 0.],\n",
       "          ...,\n",
       "          [0., 0., 0., ..., 0., 0., 0.],\n",
       "          [0., 0., 0., ..., 0., 0., 0.],\n",
       "          [0., 0., 0., ..., 0., 0., 0.]],\n",
       "\n",
       "         [[0., 0., 0., ..., 0., 0., 0.],\n",
       "          [0., 0., 0., ..., 0., 0., 0.],\n",
       "          [0., 0., 0., ..., 0., 0., 0.],\n",
       "          ...,\n",
       "          [0., 0., 0., ..., 0., 0., 0.],\n",
       "          [0., 0., 0., ..., 0., 0., 0.],\n",
       "          [0., 0., 0., ..., 0., 0., 0.]],\n",
       "\n",
       "         ...,\n",
       "\n",
       "         [[0., 0., 0., ..., 0., 0., 0.],\n",
       "          [0., 0., 0., ..., 0., 0., 0.],\n",
       "          [0., 0., 0., ..., 0., 0., 0.],\n",
       "          ...,\n",
       "          [0., 0., 0., ..., 0., 0., 0.],\n",
       "          [0., 0., 0., ..., 0., 0., 0.],\n",
       "          [0., 0., 0., ..., 0., 0., 0.]],\n",
       "\n",
       "         [[0., 0., 0., ..., 0., 0., 0.],\n",
       "          [0., 0., 0., ..., 0., 0., 0.],\n",
       "          [0., 0., 0., ..., 0., 0., 0.],\n",
       "          ...,\n",
       "          [0., 0., 0., ..., 0., 0., 0.],\n",
       "          [0., 0., 0., ..., 0., 0., 0.],\n",
       "          [0., 0., 0., ..., 0., 0., 0.]],\n",
       "\n",
       "         [[0., 0., 0., ..., 0., 0., 0.],\n",
       "          [0., 0., 0., ..., 0., 0., 0.],\n",
       "          [0., 0., 0., ..., 0., 0., 0.],\n",
       "          ...,\n",
       "          [0., 0., 0., ..., 0., 0., 0.],\n",
       "          [0., 0., 0., ..., 0., 0., 0.],\n",
       "          [0., 0., 0., ..., 0., 0., 0.]]]]], dtype=float32)"
      ]
     },
     "execution_count": 3,
     "metadata": {},
     "output_type": "execute_result"
    }
   ],
   "source": [
    "jax.image.resize(sample_3d_ct, (1,1,20,20,20), \"linear\")"
   ]
  },
  {
   "cell_type": "code",
   "execution_count": 4,
   "metadata": {},
   "outputs": [
    {
     "data": {
      "text/plain": [
       "(256, 256)"
      ]
     },
     "execution_count": 4,
     "metadata": {},
     "output_type": "execute_result"
    },
    {
     "data": {
      "image/png": "[encoded data removed]",
      "text/plain": [
       "<Figure size 2000x1000 with 1 Axes>"
      ]
     },
     "metadata": {},
     "output_type": "display_data"
    }
   ],
   "source": [
    "plt.figure(figsize=(20, 10))\n",
    "plt.style.use('grayscale')\n",
    "plt.imshow(np.rot90(sample_2d_ct))\n",
    "sample_2d_ct.shape"
   ]
  },
  {
   "cell_type": "code",
   "execution_count": 5,
   "metadata": {},
   "outputs": [
    {
     "name": "stdout",
     "output_type": "stream",
     "text": [
      "(1, 256, 128)\n"
     ]
    },
    {
     "ename": "TypeError",
     "evalue": "Invalid shape (256, 1, 128) for image data",
     "output_type": "error",
     "traceback": [
      "\u001b[0;31m---------------------------------------------------------------------------\u001b[0m",
      "\u001b[0;31mTypeError\u001b[0m                                 Traceback (most recent call last)",
      "Cell \u001b[0;32mIn[5], line 5\u001b[0m\n\u001b[1;32m      3\u001b[0m plt\u001b[39m.\u001b[39mfigure(figsize\u001b[39m=\u001b[39m(\u001b[39m20\u001b[39m, \u001b[39m10\u001b[39m))\n\u001b[1;32m      4\u001b[0m \u001b[39m# plt.style.use('grayscale')\u001b[39;00m\n\u001b[0;32m----> 5\u001b[0m plt\u001b[39m.\u001b[39;49mimshow(np\u001b[39m.\u001b[39;49mrot90(sample_2d_Slic))\n",
      "File \u001b[0;32m/usr/local/lib/python3.8/dist-packages/matplotlib/_api/deprecation.py:454\u001b[0m, in \u001b[0;36mmake_keyword_only.<locals>.wrapper\u001b[0;34m(*args, **kwargs)\u001b[0m\n\u001b[1;32m    448\u001b[0m \u001b[39mif\u001b[39;00m \u001b[39mlen\u001b[39m(args) \u001b[39m>\u001b[39m name_idx:\n\u001b[1;32m    449\u001b[0m     warn_deprecated(\n\u001b[1;32m    450\u001b[0m         since, message\u001b[39m=\u001b[39m\u001b[39m\"\u001b[39m\u001b[39mPassing the \u001b[39m\u001b[39m%(name)s\u001b[39;00m\u001b[39m \u001b[39m\u001b[39m%(obj_type)s\u001b[39;00m\u001b[39m \u001b[39m\u001b[39m\"\u001b[39m\n\u001b[1;32m    451\u001b[0m         \u001b[39m\"\u001b[39m\u001b[39mpositionally is deprecated since Matplotlib \u001b[39m\u001b[39m%(since)s\u001b[39;00m\u001b[39m; the \u001b[39m\u001b[39m\"\u001b[39m\n\u001b[1;32m    452\u001b[0m         \u001b[39m\"\u001b[39m\u001b[39mparameter will become keyword-only \u001b[39m\u001b[39m%(removal)s\u001b[39;00m\u001b[39m.\u001b[39m\u001b[39m\"\u001b[39m,\n\u001b[1;32m    453\u001b[0m         name\u001b[39m=\u001b[39mname, obj_type\u001b[39m=\u001b[39m\u001b[39mf\u001b[39m\u001b[39m\"\u001b[39m\u001b[39mparameter of \u001b[39m\u001b[39m{\u001b[39;00mfunc\u001b[39m.\u001b[39m\u001b[39m__name__\u001b[39m\u001b[39m}\u001b[39;00m\u001b[39m()\u001b[39m\u001b[39m\"\u001b[39m)\n\u001b[0;32m--> 454\u001b[0m \u001b[39mreturn\u001b[39;00m func(\u001b[39m*\u001b[39;49margs, \u001b[39m*\u001b[39;49m\u001b[39m*\u001b[39;49mkwargs)\n",
      "File \u001b[0;32m/usr/local/lib/python3.8/dist-packages/matplotlib/pyplot.py:2623\u001b[0m, in \u001b[0;36mimshow\u001b[0;34m(X, cmap, norm, aspect, interpolation, alpha, vmin, vmax, origin, extent, interpolation_stage, filternorm, filterrad, resample, url, data, **kwargs)\u001b[0m\n\u001b[1;32m   2617\u001b[0m \u001b[39m@_copy_docstring_and_deprecators\u001b[39m(Axes\u001b[39m.\u001b[39mimshow)\n\u001b[1;32m   2618\u001b[0m \u001b[39mdef\u001b[39;00m \u001b[39mimshow\u001b[39m(\n\u001b[1;32m   2619\u001b[0m         X, cmap\u001b[39m=\u001b[39m\u001b[39mNone\u001b[39;00m, norm\u001b[39m=\u001b[39m\u001b[39mNone\u001b[39;00m, aspect\u001b[39m=\u001b[39m\u001b[39mNone\u001b[39;00m, interpolation\u001b[39m=\u001b[39m\u001b[39mNone\u001b[39;00m,\n\u001b[1;32m   2620\u001b[0m         alpha\u001b[39m=\u001b[39m\u001b[39mNone\u001b[39;00m, vmin\u001b[39m=\u001b[39m\u001b[39mNone\u001b[39;00m, vmax\u001b[39m=\u001b[39m\u001b[39mNone\u001b[39;00m, origin\u001b[39m=\u001b[39m\u001b[39mNone\u001b[39;00m, extent\u001b[39m=\u001b[39m\u001b[39mNone\u001b[39;00m, \u001b[39m*\u001b[39m,\n\u001b[1;32m   2621\u001b[0m         interpolation_stage\u001b[39m=\u001b[39m\u001b[39mNone\u001b[39;00m, filternorm\u001b[39m=\u001b[39m\u001b[39mTrue\u001b[39;00m, filterrad\u001b[39m=\u001b[39m\u001b[39m4.0\u001b[39m,\n\u001b[1;32m   2622\u001b[0m         resample\u001b[39m=\u001b[39m\u001b[39mNone\u001b[39;00m, url\u001b[39m=\u001b[39m\u001b[39mNone\u001b[39;00m, data\u001b[39m=\u001b[39m\u001b[39mNone\u001b[39;00m, \u001b[39m*\u001b[39m\u001b[39m*\u001b[39mkwargs):\n\u001b[0;32m-> 2623\u001b[0m     __ret \u001b[39m=\u001b[39m gca()\u001b[39m.\u001b[39;49mimshow(\n\u001b[1;32m   2624\u001b[0m         X, cmap\u001b[39m=\u001b[39;49mcmap, norm\u001b[39m=\u001b[39;49mnorm, aspect\u001b[39m=\u001b[39;49maspect,\n\u001b[1;32m   2625\u001b[0m         interpolation\u001b[39m=\u001b[39;49minterpolation, alpha\u001b[39m=\u001b[39;49malpha, vmin\u001b[39m=\u001b[39;49mvmin,\n\u001b[1;32m   2626\u001b[0m         vmax\u001b[39m=\u001b[39;49mvmax, origin\u001b[39m=\u001b[39;49morigin, extent\u001b[39m=\u001b[39;49mextent,\n\u001b[1;32m   2627\u001b[0m         interpolation_stage\u001b[39m=\u001b[39;49minterpolation_stage,\n\u001b[1;32m   2628\u001b[0m         filternorm\u001b[39m=\u001b[39;49mfilternorm, filterrad\u001b[39m=\u001b[39;49mfilterrad, resample\u001b[39m=\u001b[39;49mresample,\n\u001b[1;32m   2629\u001b[0m         url\u001b[39m=\u001b[39;49murl, \u001b[39m*\u001b[39;49m\u001b[39m*\u001b[39;49m({\u001b[39m\"\u001b[39;49m\u001b[39mdata\u001b[39;49m\u001b[39m\"\u001b[39;49m: data} \u001b[39mif\u001b[39;49;00m data \u001b[39mis\u001b[39;49;00m \u001b[39mnot\u001b[39;49;00m \u001b[39mNone\u001b[39;49;00m \u001b[39melse\u001b[39;49;00m {}),\n\u001b[1;32m   2630\u001b[0m         \u001b[39m*\u001b[39;49m\u001b[39m*\u001b[39;49mkwargs)\n\u001b[1;32m   2631\u001b[0m     sci(__ret)\n\u001b[1;32m   2632\u001b[0m     \u001b[39mreturn\u001b[39;00m __ret\n",
      "File \u001b[0;32m/usr/local/lib/python3.8/dist-packages/matplotlib/_api/deprecation.py:454\u001b[0m, in \u001b[0;36mmake_keyword_only.<locals>.wrapper\u001b[0;34m(*args, **kwargs)\u001b[0m\n\u001b[1;32m    448\u001b[0m \u001b[39mif\u001b[39;00m \u001b[39mlen\u001b[39m(args) \u001b[39m>\u001b[39m name_idx:\n\u001b[1;32m    449\u001b[0m     warn_deprecated(\n\u001b[1;32m    450\u001b[0m         since, message\u001b[39m=\u001b[39m\u001b[39m\"\u001b[39m\u001b[39mPassing the \u001b[39m\u001b[39m%(name)s\u001b[39;00m\u001b[39m \u001b[39m\u001b[39m%(obj_type)s\u001b[39;00m\u001b[39m \u001b[39m\u001b[39m\"\u001b[39m\n\u001b[1;32m    451\u001b[0m         \u001b[39m\"\u001b[39m\u001b[39mpositionally is deprecated since Matplotlib \u001b[39m\u001b[39m%(since)s\u001b[39;00m\u001b[39m; the \u001b[39m\u001b[39m\"\u001b[39m\n\u001b[1;32m    452\u001b[0m         \u001b[39m\"\u001b[39m\u001b[39mparameter will become keyword-only \u001b[39m\u001b[39m%(removal)s\u001b[39;00m\u001b[39m.\u001b[39m\u001b[39m\"\u001b[39m,\n\u001b[1;32m    453\u001b[0m         name\u001b[39m=\u001b[39mname, obj_type\u001b[39m=\u001b[39m\u001b[39mf\u001b[39m\u001b[39m\"\u001b[39m\u001b[39mparameter of \u001b[39m\u001b[39m{\u001b[39;00mfunc\u001b[39m.\u001b[39m\u001b[39m__name__\u001b[39m\u001b[39m}\u001b[39;00m\u001b[39m()\u001b[39m\u001b[39m\"\u001b[39m)\n\u001b[0;32m--> 454\u001b[0m \u001b[39mreturn\u001b[39;00m func(\u001b[39m*\u001b[39;49margs, \u001b[39m*\u001b[39;49m\u001b[39m*\u001b[39;49mkwargs)\n",
      "File \u001b[0;32m/usr/local/lib/python3.8/dist-packages/matplotlib/__init__.py:1423\u001b[0m, in \u001b[0;36m_preprocess_data.<locals>.inner\u001b[0;34m(ax, data, *args, **kwargs)\u001b[0m\n\u001b[1;32m   1420\u001b[0m \u001b[39m@functools\u001b[39m\u001b[39m.\u001b[39mwraps(func)\n\u001b[1;32m   1421\u001b[0m \u001b[39mdef\u001b[39;00m \u001b[39minner\u001b[39m(ax, \u001b[39m*\u001b[39margs, data\u001b[39m=\u001b[39m\u001b[39mNone\u001b[39;00m, \u001b[39m*\u001b[39m\u001b[39m*\u001b[39mkwargs):\n\u001b[1;32m   1422\u001b[0m     \u001b[39mif\u001b[39;00m data \u001b[39mis\u001b[39;00m \u001b[39mNone\u001b[39;00m:\n\u001b[0;32m-> 1423\u001b[0m         \u001b[39mreturn\u001b[39;00m func(ax, \u001b[39m*\u001b[39;49m\u001b[39mmap\u001b[39;49m(sanitize_sequence, args), \u001b[39m*\u001b[39;49m\u001b[39m*\u001b[39;49mkwargs)\n\u001b[1;32m   1425\u001b[0m     bound \u001b[39m=\u001b[39m new_sig\u001b[39m.\u001b[39mbind(ax, \u001b[39m*\u001b[39margs, \u001b[39m*\u001b[39m\u001b[39m*\u001b[39mkwargs)\n\u001b[1;32m   1426\u001b[0m     auto_label \u001b[39m=\u001b[39m (bound\u001b[39m.\u001b[39marguments\u001b[39m.\u001b[39mget(label_namer)\n\u001b[1;32m   1427\u001b[0m                   \u001b[39mor\u001b[39;00m bound\u001b[39m.\u001b[39mkwargs\u001b[39m.\u001b[39mget(label_namer))\n",
      "File \u001b[0;32m/usr/local/lib/python3.8/dist-packages/matplotlib/axes/_axes.py:5604\u001b[0m, in \u001b[0;36mAxes.imshow\u001b[0;34m(self, X, cmap, norm, aspect, interpolation, alpha, vmin, vmax, origin, extent, interpolation_stage, filternorm, filterrad, resample, url, **kwargs)\u001b[0m\n\u001b[1;32m   5596\u001b[0m \u001b[39mself\u001b[39m\u001b[39m.\u001b[39mset_aspect(aspect)\n\u001b[1;32m   5597\u001b[0m im \u001b[39m=\u001b[39m mimage\u001b[39m.\u001b[39mAxesImage(\u001b[39mself\u001b[39m, cmap\u001b[39m=\u001b[39mcmap, norm\u001b[39m=\u001b[39mnorm,\n\u001b[1;32m   5598\u001b[0m                       interpolation\u001b[39m=\u001b[39minterpolation, origin\u001b[39m=\u001b[39morigin,\n\u001b[1;32m   5599\u001b[0m                       extent\u001b[39m=\u001b[39mextent, filternorm\u001b[39m=\u001b[39mfilternorm,\n\u001b[1;32m   5600\u001b[0m                       filterrad\u001b[39m=\u001b[39mfilterrad, resample\u001b[39m=\u001b[39mresample,\n\u001b[1;32m   5601\u001b[0m                       interpolation_stage\u001b[39m=\u001b[39minterpolation_stage,\n\u001b[1;32m   5602\u001b[0m                       \u001b[39m*\u001b[39m\u001b[39m*\u001b[39mkwargs)\n\u001b[0;32m-> 5604\u001b[0m im\u001b[39m.\u001b[39;49mset_data(X)\n\u001b[1;32m   5605\u001b[0m im\u001b[39m.\u001b[39mset_alpha(alpha)\n\u001b[1;32m   5606\u001b[0m \u001b[39mif\u001b[39;00m im\u001b[39m.\u001b[39mget_clip_path() \u001b[39mis\u001b[39;00m \u001b[39mNone\u001b[39;00m:\n\u001b[1;32m   5607\u001b[0m     \u001b[39m# image does not already have clipping set, clip to axes patch\u001b[39;00m\n",
      "File \u001b[0;32m/usr/local/lib/python3.8/dist-packages/matplotlib/image.py:710\u001b[0m, in \u001b[0;36m_ImageBase.set_data\u001b[0;34m(self, A)\u001b[0m\n\u001b[1;32m    706\u001b[0m     \u001b[39mself\u001b[39m\u001b[39m.\u001b[39m_A \u001b[39m=\u001b[39m \u001b[39mself\u001b[39m\u001b[39m.\u001b[39m_A[:, :, \u001b[39m0\u001b[39m]\n\u001b[1;32m    708\u001b[0m \u001b[39mif\u001b[39;00m \u001b[39mnot\u001b[39;00m (\u001b[39mself\u001b[39m\u001b[39m.\u001b[39m_A\u001b[39m.\u001b[39mndim \u001b[39m==\u001b[39m \u001b[39m2\u001b[39m\n\u001b[1;32m    709\u001b[0m         \u001b[39mor\u001b[39;00m \u001b[39mself\u001b[39m\u001b[39m.\u001b[39m_A\u001b[39m.\u001b[39mndim \u001b[39m==\u001b[39m \u001b[39m3\u001b[39m \u001b[39mand\u001b[39;00m \u001b[39mself\u001b[39m\u001b[39m.\u001b[39m_A\u001b[39m.\u001b[39mshape[\u001b[39m-\u001b[39m\u001b[39m1\u001b[39m] \u001b[39min\u001b[39;00m [\u001b[39m3\u001b[39m, \u001b[39m4\u001b[39m]):\n\u001b[0;32m--> 710\u001b[0m     \u001b[39mraise\u001b[39;00m \u001b[39mTypeError\u001b[39;00m(\u001b[39m\"\u001b[39m\u001b[39mInvalid shape \u001b[39m\u001b[39m{}\u001b[39;00m\u001b[39m for image data\u001b[39m\u001b[39m\"\u001b[39m\n\u001b[1;32m    711\u001b[0m                     \u001b[39m.\u001b[39mformat(\u001b[39mself\u001b[39m\u001b[39m.\u001b[39m_A\u001b[39m.\u001b[39mshape))\n\u001b[1;32m    713\u001b[0m \u001b[39mif\u001b[39;00m \u001b[39mself\u001b[39m\u001b[39m.\u001b[39m_A\u001b[39m.\u001b[39mndim \u001b[39m==\u001b[39m \u001b[39m3\u001b[39m:\n\u001b[1;32m    714\u001b[0m     \u001b[39m# If the input data has values outside the valid range (after\u001b[39;00m\n\u001b[1;32m    715\u001b[0m     \u001b[39m# normalisation), we issue a warning and then clip X to the bounds\u001b[39;00m\n\u001b[1;32m    716\u001b[0m     \u001b[39m# - otherwise casting wraps extreme values, hiding outliers and\u001b[39;00m\n\u001b[1;32m    717\u001b[0m     \u001b[39m# making reliable interpretation impossible.\u001b[39;00m\n\u001b[1;32m    718\u001b[0m     high \u001b[39m=\u001b[39m \u001b[39m255\u001b[39m \u001b[39mif\u001b[39;00m np\u001b[39m.\u001b[39missubdtype(\u001b[39mself\u001b[39m\u001b[39m.\u001b[39m_A\u001b[39m.\u001b[39mdtype, np\u001b[39m.\u001b[39minteger) \u001b[39melse\u001b[39;00m \u001b[39m1\u001b[39m\n",
      "\u001b[0;31mTypeError\u001b[0m: Invalid shape (256, 1, 128) for image data"
     ]
    },
    {
     "data": {
      "image/png": "[encoded data removed]",
      "text/plain": [
       "<Figure size 2000x1000 with 1 Axes>"
      ]
     },
     "metadata": {},
     "output_type": "display_data"
    }
   ],
   "source": [
    "print(sample_2d_Slic.shape)\n",
    "# sample_2d_Slic=jax.image.resize(sample_2d_Slic, (20,20), \"linear\")\n",
    "plt.figure(figsize=(20, 10))\n",
    "# plt.style.use('grayscale')\n",
    "plt.imshow(np.rot90(sample_2d_Slic))"
   ]
  },
  {
   "cell_type": "code",
   "execution_count": null,
   "metadata": {},
   "outputs": [],
   "source": [
    "import pywt, scipy.misc\n",
    "import jaxwt as jwt\n",
    "import jax.numpy as jnp\n",
    "\n",
    "#,level=2, mode=\"reflect\"\n",
    "@jax.jit\n",
    "def test(sample_2d_ct):                           \n",
    "    transformed = jwt.wavedec2(sample_2d_ct, pywt.Wavelet(\"haar\"),mode=\"zero\")\n",
    "    # print(len(transformed))\n",
    "    # print(transformed[0].shape)\n",
    "    return jwt.waverec2(transformed, pywt.Wavelet(\"haar\"))\n",
    "reconstruction=test(sample_2d_ct)\n",
    "\n",
    "plt.imshow(np.rot90(reconstruction))\n",
    "\n"
   ]
  },
  {
   "cell_type": "code",
   "execution_count": null,
   "metadata": {},
   "outputs": [],
   "source": [
    "aaa=jnp.arange(4*4*4)\n",
    "aaa=jnp.reshape(aaa,(1,1,4,4,4))\n",
    "print(f\"aaa {aaa}\")\n",
    "# a,b=einops.rearrange(aaa,'ba c w (a b) d->b ba c w a d',b=2)\n",
    "# a,b=einops.rearrange(aaa,'ba c (a b) h d->b ba c a h d',b=2)\n",
    "a,b=einops.rearrange(aaa,'ba c w h (a b)->b ba c w h a',b=2)\n",
    "a"
   ]
  },
  {
   "cell_type": "code",
   "execution_count": null,
   "metadata": {},
   "outputs": [],
   "source": [
    "# def normpdf(x, mean, sd):\n",
    "#     var = jnp.power(float(sd),2)\n",
    "#     denom = jnp.power((2*jnp.pi*var),.5)\n",
    "#     num = jnp.exp(-jnp.power((float(x)-float(mean)),2)/(2*var))\n",
    "#     return num/denom\n",
    "# normpdf(0.1,0.0,0.2)\n",
    "jnp.equal(jnp.array([1,2,3]),jnp.array([1,2,4]))\n",
    "# float(jax.scipy.stats.norm.pdf(0.001, loc=0, scale=0.01)"
   ]
  },
  {
   "cell_type": "code",
   "execution_count": null,
   "metadata": {},
   "outputs": [],
   "source": [
    "from flax import linen as nn\n",
    "import numpy as np\n",
    "from typing import Any, Callable, Optional, Tuple, Type, List\n",
    "from jax import lax, random, numpy as jnp\n",
    "import einops\n",
    "import torchio\n",
    "import torch\n",
    "import matplotlib.pyplot as plt\n",
    "import tempfile\n",
    "import shutil\n",
    "import os\n",
    "import glob\n",
    "import jax\n",
    "import tensorflow as tf\n",
    "import torch \n",
    "import einops\n",
    "import torchio as tio\n",
    "import optax\n",
    "from flax.training import train_state  \n",
    "from torch.utils.data import DataLoader\n",
    "import jax.profiler\n",
    "import ml_collections\n",
    "from ml_collections import config_dict\n",
    "import numpy as np\n",
    "import toolz\n",
    "from einops import rearrange\n",
    "from functools import partial"
   ]
  },
  {
   "cell_type": "code",
   "execution_count": null,
   "metadata": {},
   "outputs": [],
   "source": [
    "test_mage_shape= (1,1,32,32)\n",
    "prob0_v= np.random.rand(np.product((1, 2, 2, 2))).reshape((1, 2, 2, 2))\n",
    "prob0_h= np.random.rand(np.product((1, 2, 4, 2))).reshape((1, 2, 4, 2))\n",
    "prob0_h_flat= np.random.rand(480)\n",
    "# aranged_test_im= np.arange(np.product(list(test_mage_shape)))\n",
    "aranged_test_im= np.random.rand(np.product(list(test_mage_shape)))\n",
    "aranged_test_im= np.reshape(aranged_test_im, test_mage_shape)\n",
    "\n",
    "b,c,w,h = test_mage_shape\n"
   ]
  },
  {
   "cell_type": "code",
   "execution_count": null,
   "metadata": {},
   "outputs": [],
   "source": [
    "# def cross_entropy(logprobs, targets):\n",
    "#   target_class = jnp.argmax(targets, axis=1)\n",
    "#   nll = jnp.take_along_axis(logprobs, jnp.expand_dims(target_class, axis=1), axis=1)\n",
    "#   ce = -jnp.mean(nll)\n",
    "#   return ce\n",
    "\n",
    "@jax.vmap\n",
    "def my_cross_entropy_loss(logits, label):\n",
    "  return -logits[label]\n"
   ]
  },
  {
   "cell_type": "code",
   "execution_count": null,
   "metadata": {},
   "outputs": [],
   "source": [
    "### calculating gt_id as far as I see it is deterministic given image and dimension of intrest\n",
    "\n",
    "\n",
    "\n",
    "# a1,a2=einops.rearrange(aranged_test_im,'ba c (a b) h->b ba c a h',b=2)\n",
    "def lab_s_dim_loss(pair, axis_to_sub,prob):\n",
    "    a1,a2=pair\n",
    "    \n",
    "    # print(f\"aa {a2.take(indices=range(0, -1), axis=axis_to_sub).shape} bb {a2.take(indices=range(1,a2.shape[axis_to_sub]-1), axis=axis_to_sub).shape} \")\n",
    "    # print(f\"aa {a2.take(indices=range(0, -1), axis=axis_to_sub).shape} bb {a2.take(indices=range(1,a2.shape[axis_to_sub]-1), axis=axis_to_sub).shape} \")\n",
    "    \n",
    "    sub1=a2.take(indices=range(0, a2.shape[axis_to_sub]-1), axis=axis_to_sub)- a1.take(indices=range(0, a1.shape[axis_to_sub]-1), axis=axis_to_sub)\n",
    "    sub2=a2.take(indices=range(0, a2.shape[axis_to_sub]-1), axis=axis_to_sub)- a1.take(indices=range(1,a1.shape[axis_to_sub]), axis=axis_to_sub)\n",
    "   \n",
    "    cat_feat=einops.rearrange([sub1,sub2],'baba ba c w h->ba (c baba ) w h')\n",
    "\n",
    "    # cat_feat=einops.rearrange([(a2[:,:, :,0:-1]-a1[:,:,:,0:-1])\n",
    "    #                 ,(a2[:,:,:,0:-1]-a1[:,:,:,1:])], 'baba ba c w h->ba (c baba ) w h')\n",
    "    # cat_feat=einops.rearrange([(a2[:,:, 0:-1 ,:]-a1[:,:,0:-1,:])\n",
    "    #                 ,(a2[:,:, 0:-1 ,:]-a1[:,:,1:,:])], 'baba ba c w h->ba (c baba ) w h')\n",
    "    \n",
    "    cat_feat=cat_feat*cat_feat\n",
    "    cat_feat = jax.nn.relu(-jax.nn.relu(cat_feat)+1)\n",
    "    to_id= einops.rearrange(cat_feat,'b c w h-> (b w h c)')\n",
    "    to_id= einops.rearrange(to_id,'(a b)-> a b',b=2)\n",
    "\n",
    "    gt_id= jnp.argmax(to_id,axis=1, keepdims=False)\n",
    "    # gt = cat_feat[:, 0, :, :] - cat_feat[:, 1, :, :] #so we are working on channel\n",
    "    # weight = gt * gt\n",
    "    # print(f\"prob {prob.shape}\")\n",
    "    # prob_scaled= prob.take(indices=range(0, prob.shape[axis_to_sub],2), axis=axis_to_sub)\n",
    "    # # prob_scaled= prob.take(indices=range(0, prob.shape[axis_to_sub]-2,2), axis=axis_to_sub)\n",
    "    # prob_scaled= einops.rearrange(prob_scaled,'b c w h-> (b w h c)')\n",
    "    # prob_scaled= einops.rearrange(prob_scaled,'(a b)-> a b',b=2)\n",
    "    \n",
    "    # print(f\" prob_scaled {prob_scaled.shape} gt_id {gt_id.shape} \")\n",
    "    # color_loss=my_cross_entropy_loss(prob_scaled,gt_id)\n",
    "    \n",
    "\n",
    "    return to_id\n",
    "\n",
    "\n",
    "prob0_hh= jnp.array(prob0_h)\n",
    "# aranged_test_im= jnp.ones(test_mage_shape)\n",
    "gt_id=lab_s_dim_loss(einops.rearrange(jnp.array(aranged_test_im),'ba c (a b) h->b ba c a h',b=2),axis_to_sub=2,prob=prob0_hh)\n",
    "# gt_id=lab_s_dim_loss(einops.rearrange(aranged_test_im,'ba c w (a b)->b ba c w a',b=2),axis_to_sub=3)\n",
    "print(gt_id)\n",
    "gt_id.shape\n",
    "# jnp.ravel(cat_feat)\n"
   ]
  },
  {
   "cell_type": "code",
   "execution_count": null,
   "metadata": {},
   "outputs": [],
   "source": [
    "shapee=(16,16,16)\n",
    "aaa=np.ones(shapee)\n",
    "# aaa[2,2,2]=2\n",
    "aaa[0:8,0:8,0:8]=2\n",
    "# aaa[1,0,0]=2\n",
    "# aaa=np.arange(np.product(list(shapee))).reshape(shapee)\n",
    "# aaa[:,::2,:]=2\n",
    "# aaa[::2,:,:]=2\n",
    "# aaa[:,:,::2]=2\n",
    "aaa= jnp.array(aaa)\n",
    "# sh= aaa.shape\n",
    "# chosen_axis=0\n",
    "# to_query=[0,aaa[0],0,aaa[1],0,aaa[2]]  \n",
    "# sub_up_indicies_a=to_query.copy()\n",
    "# sub_up_indicies_b=to_query.copy()\n",
    "# sub_down_indicies_a=to_query.copy()\n",
    "# sub_down_indicies_b=to_query.copy()\n",
    "# sub_up_indicies_a[((chosen_axis+1)*2)-1]=-1\n",
    "# sub_up_indicies_b[chosen_axis*2]=1\n",
    "\n",
    "# sub_up_indicies_a[((chosen_axis+1)*2)-1]=-1\n",
    "# sub_up_indicies_b[chosen_axis*2]=1\n",
    "\n",
    "def compare_up_and_down(vect):\n",
    "    res=jnp.stack([jnp.equal(vect[1:-1],vect[2:] ),\n",
    "                jnp.equal(vect[1:-1],vect[0:-2] )],axis=1)\n",
    "    return jnp.pad(res,((1,1),(0,0)))\n",
    "\n",
    "v_compare_up_and_down=jax.vmap(compare_up_and_down, in_axes=(0,), out_axes=0)\n",
    "v_v_compare_up_and_down=jax.vmap(v_compare_up_and_down, in_axes=(0,), out_axes=0)\n",
    "res=v_v_compare_up_and_down( aaa)\n",
    "\n",
    "\n",
    "# sub_up=jnp.equal(jnp.take(aaa, jnp.arange(0,len_in_axis-1), axis=chosen_axis),jnp.take(aaa,  jnp.arange(1,len_in_axis), axis=chosen_axis))\n",
    "# sub_up=jnp.equal(aaa[1:-1,:,:],aaa[0:-2,:,:]  )\n",
    "# sub_down=jnp.equal(aaa[1:-1,:,:],aaa[2:,:,:]  )\n",
    "# sub_down=jnp.equal(aaa,jnp.roll(aaa, -1, axis=chosen_axis))\n",
    "\n",
    "# print(f\"rolled {jnp.roll(aaa, 1, axis=chosen_axis)} \")\n",
    "print(f\"res {jnp.sum(res)}\")\n",
    "# print(f\"sub_down {sub_down} \")\n",
    "plt.figure(figsize=(4,4))\n",
    "# plt.style.use('grayscale')\n",
    "# plt.imshow(jnp.logical_and(sub_up[:,:,7],sub_down[:,:,7]))\n",
    "plt.imshow(res[:,1,:,1])\n",
    "# plt.imshow(jnp.take(aaa, jnp.arange(1,len_in_axis), axis=chosen_axis)[:,:,])\n",
    "# print(f\"sub_up {sub_up.shape} sub_down {sub_down.shape} \")"
   ]
  },
  {
   "cell_type": "code",
   "execution_count": null,
   "metadata": {},
   "outputs": [],
   "source": [
    "import flax\n",
    "def diff_round(x):\n",
    "    \"\"\"\n",
    "    differentiable version of round function\n",
    "    \"\"\"\n",
    "    return x - jnp.sin(2*jnp.pi*x)/(2*jnp.pi)\n",
    "\n",
    "def harder_diff_round(x):\n",
    "    return diff_round(diff_round(diff_round(diff_round(diff_round(x)))))\n",
    "\n",
    "v_harder_diff_round=jax.vmap(harder_diff_round)\n",
    "grid_vect=jnp.arange(10)\n",
    "probs= jnp.array(np.random.random((10,2)))\n",
    "probs= flax.linen.softmax(probs,axis=1)\n",
    "thresholded = v_harder_diff_round(probs)\n",
    "grid_vect= jnp.pad(grid_vect,(1,1))\n",
    "stacked = jnp.stack([grid_vect[:-2],grid_vect[2:]],axis=1)\n",
    "mult=jnp.multiply(stacked,thresholded)\n",
    "jnp.round(jnp.sum(mult,axis=1),2).shape\n",
    "# print(grid_vect[:-2])\n",
    "# print(grid_vect[1:-1])\n",
    "# print(grid_vect[2:])\n",
    "# image=jnp.arange(3*3)\n",
    "# aaa=einops.rearrange(image, '(a x) -> a x ', a=3)\n",
    "\n",
    "# einops.repeat(aaa, 'h w ->c h w ', c=2)\n"
   ]
  },
  {
   "cell_type": "code",
   "execution_count": null,
   "metadata": {},
   "outputs": [],
   "source": [
    "shape = (5,2)\n",
    "probs=jnp.arange(1,np.product(list(shape))+1).reshape(shape)\n",
    "# probs= jnp.pad(probs,((1,0),(0,0)))\n",
    "rolled=probs.flatten()[1:-1].reshape(shape[0]-1,2)\n",
    "rolled=jnp.sum(rolled,axis=1)\n",
    "rolled=einops.rearrange(rolled,'(a b)-> a b',b=2)\n",
    "print(rolled)\n",
    "grid_vect=jnp.pad(jnp.arange(1,6),(0,1))\n",
    "grid_vect=einops.rearrange(grid_vect,'(a b)-> a b',b=2)\n",
    "\n",
    "#we are still before sigmoid or softmax\n",
    "\n",
    "grid_vect\n",
    "# set bigget examples and mark just those points \n",
    "# that intrest me"
   ]
  },
  {
   "cell_type": "code",
   "execution_count": null,
   "metadata": {},
   "outputs": [],
   "source": [
    "    [[ 1  2]\n",
    "x1    [ 3  4]\n",
    "    [ 5  6]\n",
    "x2    [ 7  8]\n",
    "    [ 9 10]]\n",
    "\n",
    "x1    [[ 5,  9],\n",
    "x2    [13, 17]]\n"
   ]
  },
  {
   "cell_type": "code",
   "execution_count": null,
   "metadata": {},
   "outputs": [],
   "source": [
    "a=jnp.arange(1,6)\n",
    "b=jnp.arange(1,6)*10\n",
    "jnp.stack([a,b],axis=1).flatten()"
   ]
  },
  {
   "cell_type": "code",
   "execution_count": null,
   "metadata": {},
   "outputs": [],
   "source": [
    "def diff_round(x):\n",
    "    return x - jnp.sin(2*jnp.pi*x)/(2*jnp.pi)\n",
    "x=0.1\n",
    "diff_round(diff_round(diff_round(diff_round(x))))"
   ]
  },
  {
   "cell_type": "code",
   "execution_count": null,
   "metadata": {},
   "outputs": [],
   "source": [
    "kernel_v = jnp.array([[[0, -1, 0], [0, 1, 0], [0, 0, 0]],\n",
    "            [[0, 0, 0], [0, 1, 0], [0, -1, 0]]],dtype=jnp.float32)\n",
    "# kernel_v=einops.rearrange(kernel_v,'c x y-> 1 c x y')\n",
    "\n",
    "image_rgb= jnp.array(aranged_test_im,dtype=jnp.float32)\n",
    "print(image_rgb.shape)\n",
    "# image_rgb=einops.rearrange(image_rgb,'b c x y-> (b c x) y')\n",
    "image_rgb = jnp.pad(image_rgb, ((0, 0),(0, 0),(0, 0), (1, 1)), mode='edge')# seem in numpy we are padding from first to last axis and in pytorch in opposite way\n",
    "\n",
    "repeated= einops.repeat(kernel_v, 'c h w -> (c c2) 1 h w', c2=c)\n",
    "print(f\"repeated {repeated.shape} padded {image_rgb.shape}\")\n",
    "\n",
    "cat_feat = lax.conv_general_dilated(image_rgb,    # lhs = NCHW image tensor\n",
    "               repeated, # rhs = OIHW conv kernel tensor\n",
    "               (2, 1),  # window strides\n",
    "                padding=((0, 0),(0, 0)),\n",
    "               feature_group_count= c) # padding mode\n",
    "print(f\"cat_feat {cat_feat} \")\n",
    "cat_feat = cat_feat*cat_feat\n",
    "\n",
    "cat_feat = jax.nn.relu(-jax.nn.relu(cat_feat)+1)\n",
    "b, c, h, w = cat_feat.shape\n",
    "print(f\" cat_feat.shape {cat_feat.shape}\")\n",
    "b, c, h, w = cat_feat.shape\n",
    "cat_feat= einops.rearrange(cat_feat,'b c h w->(b h w c)')\n",
    "cat_feat= einops.reduce(cat_feat,'(a b)-> a', 'max',b=2)\n",
    "\n",
    "# cat_feat=reduce(x, 't b c -> b c', 'max')\n",
    "print(f\"cat_feat reduced {cat_feat.shape}\")\n",
    "# _, gt_id = cat_feat.permute(0, 2, 3, 1).reshape(-1, 2).max(1, keepdim=False)\n",
    "\n",
    "# print(f\"gt_id {gt_id.shape} permuted {cat_feat.permute(0, 2, 3, 1).shape} reshaped {cat_feat.permute(0, 2, 3, 1).reshape(-1, 2).shape} \")\n",
    "\n"
   ]
  },
  {
   "cell_type": "code",
   "execution_count": null,
   "metadata": {},
   "outputs": [],
   "source": [
    "import torch\n",
    "import torch.nn.functional as F\n",
    "import torch.nn as nn\n",
    "import numpy as np\n",
    "from skimage.segmentation import mark_boundaries\n",
    "import cv2\n",
    "label= torch.from_numpy(aranged_test_im).float()\n",
    "prob0_h= torch.from_numpy(prob0_h).float()\n",
    "prob0_h_flat= torch.from_numpy(prob0_h_flat).float()\n",
    "_, color_c, _, _ = label.shape\n",
    "\n",
    "\n",
    "kernel = [[[0, -1, 0], [0, 1, 0], [0, 0, 0]],\n",
    "            [[0, 0, 0], [0, 1, 0], [0, -1, 0]]]\n",
    "kernel = torch.tensor(kernel).float().repeat(color_c, 1, 1).unsqueeze(1)\n",
    "# cat_feat = img\n",
    "label = F.pad(label, (1, 1, 0, 0), mode='replicate')\n",
    "cat_feat = F.conv2d(label, kernel, stride=(2, 1), padding=(0, 0), groups=color_c)\n",
    "cat_feat = cat_feat*cat_feat\n",
    "\n",
    "cat_feat = F.relu(-F.relu(cat_feat)+1)\n",
    "b, c, h, w = cat_feat.shape\n",
    "_, gt_id = cat_feat.permute(0, 2, 3, 1).reshape(-1, 2).max(1, keepdim=False)\n",
    "# print(f\"reshaped prob {prob0_h[:, :, 1:-1:2, :].permute(0, 2, 3, 1).reshape(-1, 2).shape} gt_id {gt_id.shape}\")\n",
    "# color_loss = torch.nn.functional.cross_entropy(prob0_h_flat, gt_id.float(),reduction='none')\n",
    "# color_loss = cross_loss(prob0_h[:, :, 1:-1:2, :].permute(0, 2, 3, 1).reshape(-1, 2), gt_id)\n",
    "# color_loss = cross_loss(prob0_h_flat, gt_id.float())\n",
    "# print(f\"color_loss {color_loss.shape}\")\n",
    "# color_loss = color_loss.view(b, h, w)\n",
    "\n",
    "# gt = cat_feat[:, 0, :, :] - cat_feat[:, 1, :, :]\n",
    "# weight = gt * gt\n",
    "# color_loss = weight*color_loss\n",
    "# color_loss = torch.sum(torch.sum(color_loss, dim=-1), dim=-1)\n",
    "gt_id"
   ]
  },
  {
   "cell_type": "code",
   "execution_count": null,
   "metadata": {},
   "outputs": [],
   "source": [
    "_, color_c, _, _ = label.shape\n",
    "kernel = [[[0, 0, 0], [-1, 1, 0], [0, 0, 0]],\n",
    "            [[0, 0, 0], [0, 1, -1], [0, 0, 0]]]\n",
    "\n",
    "\n",
    "            \n",
    "kernel = torch.tensor(kernel).float().repeat(color_c, 1, 1).unsqueeze(1)\n",
    "# cat_feat = img\n",
    "label = F.pad(label, (0, 0, 1, 1), mode='replicate')\n",
    "cat_feat = F.conv2d(label, kernel, stride=(1, 2), padding=(0, 0), groups=color_c)\n",
    "cat_feat = cat_feat * cat_feat\n",
    "print(f\"cat_feat {cat_feat}\")\n",
    "\n",
    "cat_feat = F.relu(-F.relu(cat_feat) + 1)\n",
    "b, c, h, w = cat_feat.shape\n",
    "_, gt_id = cat_feat.permute(0, 2, 3, 1).reshape(-1, 2).max(1, keepdim=False)\n",
    "print(gt_id.shape)\n",
    "gt_id"
   ]
  },
  {
   "cell_type": "code",
   "execution_count": null,
   "metadata": {},
   "outputs": [],
   "source": [
    "aaa=get_spleen_data()"
   ]
  },
  {
   "cell_type": "code",
   "execution_count": null,
   "metadata": {},
   "outputs": [],
   "source": [
    "import more_itertools\n",
    "import toolz\n",
    "n=3\n",
    "chunked=list(more_itertools.chunked(aaa, n))\n",
    "unipped=list(map(toolz.sandbox.core.unzip,chunked ))\n",
    "unipped=list(map(lambda inn: list(map(list,inn)),unipped ))\n",
    "# len(unipped[0][0][0])\n",
    "unipped=list(map(lambda inn: list(map(np.concatenate,inn)),unipped ))\n",
    "\n",
    "\n",
    "# unipped[0][0][0].shape"
   ]
  },
  {
   "cell_type": "code",
   "execution_count": null,
   "metadata": {},
   "outputs": [],
   "source": [
    "# # a= jnp.reshape(jnp.arange(1,17),(4,4) )\n",
    "# # b= jnp.reshape(jnp.arange(20,36),(4,4) )\n",
    "# # einops.rearrange([a,b], 'b a p-> (a b) p ')\n",
    "\n",
    "# image_shape=(7,9)\n",
    "# label=jnp.ones(image_shape)\n",
    "# label=label.at[2,3].set(2)\n",
    "# label=label.at[2,2].set(2)\n",
    "# print(f\"label \\n {label} \")\n",
    "\n",
    "# dim_stride=1\n",
    "# main=label.take(indices=jnp.arange(1,image_shape[dim_stride]-1),axis=dim_stride)\n",
    "# back=label.take(indices=jnp.arange(0,image_shape[dim_stride]-2),axis=dim_stride)\n",
    "# forward=label.take(indices=jnp.arange(2,image_shape[dim_stride]),axis=dim_stride)\n",
    "# print(f\"back \\n {jnp.equal(main,back).astype(int)}\")\n",
    "# print(f\"front \\n {jnp.equal(main,forward).astype(int)}\")\n",
    "# res=jnp.stack([jnp.equal(main,back),jnp.equal(main,forward )],axis=-1)\n",
    "# print(f\"shapee {res.shape}\")\n",
    "# jnp.logical_and(jnp.equal(main,back),jnp.equal(main,forward )).astype(int)\n",
    "# # label\n",
    "\n",
    "def disp_to_pandas(probs,shappe ):\n",
    "    probs_to_disp= einops.rearrange(probs,'w h c-> (w h) c')\n",
    "    probs_to_disp=list(map(lambda twoo: f\"{twoo[0]} {twoo[1]}\",list(probs_to_disp)))\n",
    "    probs_to_disp=np.array(probs_to_disp).reshape(shappe)\n",
    "    return pd.DataFrame(probs_to_disp)\n"
   ]
  },
  {
   "cell_type": "code",
   "execution_count": null,
   "metadata": {},
   "outputs": [],
   "source": [
    "sh=(4,5,2)\n",
    "dim_stride=0\n",
    "len= np.product(list(sh))\n",
    "a= jnp.arange(1,len+1).reshape(sh)\n",
    "print(a)\n",
    "a=a.flatten()\n",
    "a= jnp.roll(a,shift=1)\n",
    "a= jnp.reshape(a,sh)\n",
    "a"
   ]
  },
  {
   "cell_type": "code",
   "execution_count": null,
   "metadata": {},
   "outputs": [],
   "source": [
    "w=4\n",
    "h=6\n",
    "probs_shape=(w,h)\n",
    "sh=(w,h)\n",
    "probs=jnp.arange(1,(w*h*2)+1)\n",
    "probs=probs.reshape((w,h,2))\n",
    "\n",
    "\n",
    "def roll_in(probs,dim_stride,probs_shape):\n",
    "    probs_back=probs[:,:,0]\n",
    "    probs_forward=probs[:,:,1]\n",
    "    probs_back=jnp.take(probs_back, indices=jnp.arange(1,probs_shape[dim_stride]),axis=dim_stride )\n",
    "    probs_forward=jnp.take(probs_forward, indices=jnp.arange(0,probs_shape[dim_stride]-1),axis=dim_stride )\n",
    "    return jnp.stack([probs_forward,probs_back],axis=-1)\n",
    "\n",
    "def grid_build(res_grid,probs,dim_stride,probs_shape):\n",
    "    roll_in(probs,dim_stride,probs_shape)\n",
    "# print(\"mainnn\")\n",
    "# print( disp_to_pandas(probs,(w,h)))\n",
    "# print(\"roll w\")\n",
    "# dim_stride=1\n",
    "# rolled_w=roll_in(probs,dim_stride,(w,h))\n",
    "# print( disp_to_pandas(rolled_w,(rolled_w.shape[0],rolled_w.shape[1])))\n",
    "# print(\"roll h\")\n",
    "# dim_stride=0\n",
    "# rolled_h=roll_in(probs,dim_stride,(w,h))\n",
    "# print( disp_to_pandas(rolled_h,(rolled_h.shape[0],rolled_h.shape[1])))"
   ]
  },
  {
   "cell_type": "code",
   "execution_count": null,
   "metadata": {},
   "outputs": [],
   "source": [
    "# def disp_to_pandas(probs,shappe ):\n",
    "#     probs_to_disp= einops.rearrange(probs,'w h c-> (w h) c')\n",
    "#     probs_to_disp=jnp.round(probs_to_disp,1)\n",
    "#     probs_to_disp=list(map(lambda twoo: f\"{twoo[0]} {twoo[1]}\",list(probs_to_disp)))\n",
    "#     probs_to_disp=np.array(probs_to_disp).reshape(shappe)\n",
    "#     return pd.DataFrame(probs_to_disp)\n",
    "\n",
    "def for_pad_divide_grid(current_grid_shape,axis,r):\n",
    "    for_pad_rem= jnp.remainder(current_grid_shape[axis]-r,2*r)\n",
    "    if(for_pad_rem>0):\n",
    "        return 2*r-for_pad_rem\n",
    "    #if for_pad_rem==0 we do not need to pad\n",
    "    return for_pad_rem    \n",
    "\n",
    "\n",
    "def get_supervoxel_id(shift_x:bool,shift_y:bool,r:int,orig_grid_shape:Tuple[int],current_grid_shape:Tuple[int]):\n",
    "    \"\"\"\n",
    "    In order to be able to vmap through the supervoxels we need to have a way \n",
    "    to tell what id should be present in the area we have and that was given by main part of \n",
    "    divide_sv_grid function the supervoxel ids are based on the orig_grid_shape  generally \n",
    "    we have the supervoxel every r but here as we jump every 2r we need every second id\n",
    "    \"\"\"\n",
    "    res_grid=jnp.mgrid[1:orig_grid_shape[0], 1:orig_grid_shape[1]]\n",
    "    res_grid=einops.rearrange(res_grid,'p x y-> x y p')\n",
    "    res_grid=einops.repeat(res_grid,'x y p-> x y p')\n",
    "    return res_grid[int(shift_x): orig_grid_shape[0]-int(shift_x):2,\n",
    "                    int(shift_y): orig_grid_shape[1]-int(shift_y):2, ]\n",
    "\n",
    "def divide_sv_grid(res_grid: jnp.ndarray,shift_x:bool,shift_y:bool,r:int,orig_grid_shape:Tuple[int],current_grid_shape:Tuple[int]):\n",
    "    \"\"\"\n",
    "    as the supervoxel will overlap we need to have a way to divide the array with supervoxel ids\n",
    "    into the set of non overlapping areas - we want thos area to be maximum possible area where we could find\n",
    "    any voxels associated with this supervoxels- the \"radius\" of this cube hence can be calculated based on the amount of dilatations made\n",
    "    becouse of this overlapping we need to be able to have at least 8 diffrent divisions\n",
    "    we can work them out on the basis of the fact where we start at each axis at 0 or r - and do it for\n",
    "    all axis permutations 2**3 =8\n",
    "    we need also to take care about padding after removing r from each axis the grid need to be divisible by 2*r\n",
    "    \"\"\"\n",
    "    #first we cut out all areas not covered by current supervoxels\n",
    "    cutted=res_grid[r*shift_x: current_grid_shape[0]- r*(not shift_x),r*shift_y: current_grid_shape[1]- r*(not shift_y)]\n",
    "    pad_x=for_pad_divide_grid(current_grid_shape,0,r)\n",
    "    pad_y=for_pad_divide_grid(current_grid_shape,1,r)\n",
    "    cutted= jnp.pad(cutted,(\n",
    "                        (pad_x*(not shift_x),pad_x*shift_x)\n",
    "                        ,(pad_y*(not shift_y),pad_y*shift_y)\n",
    "                        ,(0,0)))\n",
    "    cutted=einops.rearrange( cutted,'(a x) (b y) p-> a b x y p', x=2*r,y=2*r)\n",
    "    return cutted\n",
    "\n",
    "\n",
    "w=17\n",
    "h=19\n",
    "dim_stride=0\n",
    "grid_shape=(w,h)\n",
    "probs_shape=(w,h//2)\n",
    "sh=(w,h)\n",
    "\n",
    "res_grid=jnp.mgrid[1:w+1, 1:h+1].astype(jnp.float16)\n",
    "res_grid=einops.rearrange(res_grid,'p x y-> x y p')\n",
    "res_grid=einops.repeat(res_grid,'x y p-> x y p')\n",
    "orig_grid_shape=res_grid.shape\n",
    "current_grid_shape=res_grid.shape\n",
    "aa=divide_sv_grid(res_grid,True,True,2,orig_grid_shape,current_grid_shape)\n",
    "aa.shape"
   ]
  },
  {
   "cell_type": "code",
   "execution_count": 23,
   "metadata": {},
   "outputs": [
    {
     "data": {
      "text/plain": [
       "Array(0.09126487, dtype=float32)"
      ]
     },
     "execution_count": 23,
     "metadata": {},
     "output_type": "execute_result"
    }
   ],
   "source": [
    "a=jnp.array([1.0,2.0,3.0])\n",
    "b=jnp.array([2.0,2.0,3.0])\n",
    "\n",
    "def diff_round(x):\n",
    "    \"\"\"\n",
    "    differentiable version of round function\n",
    "    \"\"\"\n",
    "    return x - jnp.sin(2*jnp.pi*x)/(2*jnp.pi)\n",
    "\n",
    "def soft_equal(a,b):\n",
    "    \"\"\"\n",
    "    differentiable version of equality function\n",
    "    adapted and improved version of https://kusemanohar.wordpress.com/2017/01/05/trick-to-convert-a-indicator-function-to-continuous-and-differential-function/\n",
    "    \"\"\"\n",
    "    return diff_round(diff_round(jnp.exp(-jax.numpy.linalg.norm(a-b,ord=2))))\n"
   ]
  },
  {
   "cell_type": "markdown",
   "metadata": {},
   "source": []
  }
 ],
 "metadata": {
  "kernelspec": {
   "display_name": "Python 3",
   "language": "python",
   "name": "python3"
  },
  "language_info": {
   "codemirror_mode": {
    "name": "ipython",
    "version": 3
   },
   "file_extension": ".py",
   "mimetype": "text/x-python",
   "name": "python",
   "nbconvert_exporter": "python",
   "pygments_lexer": "ipython3",
   "version": "3.8.10"
  },
  "orig_nbformat": 4
 },
 "nbformat": 4,
 "nbformat_minor": 2
}
