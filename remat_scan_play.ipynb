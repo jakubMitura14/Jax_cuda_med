{
 "cells": [
  {
   "cell_type": "code",
   "execution_count": null,
   "metadata": {},
   "outputs": [],
   "source": [
    "#https://github.com/google/flax/blob/be3c846c18e749b7db7099aabf72c43e29daec62/flax/core/lift.py#L1328\n",
    "# as in example of docs above of function remat_scan\n",
    "# we have a variable scope we need to check what is it \n",
    "#probably best is to manually modify this function - add arange to the scan to pass index to the function invocation\n",
    "#the same with the cfg - then in the bodyfn one could use index, and cfg configuration to define the modules\n",
    "#Hovewer we need also to check weather repeating convolutions in the lower u net with stop gradient will not couse problems"
   ]
  }
 ],
 "metadata": {
  "language_info": {
   "name": "python"
  },
  "orig_nbformat": 4
 },
 "nbformat": 4,
 "nbformat_minor": 2
}
